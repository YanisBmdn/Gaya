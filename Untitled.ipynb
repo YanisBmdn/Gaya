{
 "cells": [
  {
   "cell_type": "code",
   "execution_count": 1,
   "id": "a019bdd1-43fb-4e49-8fe5-bc8136eb75d6",
   "metadata": {},
   "outputs": [],
   "source": [
    "from app.main import main\n",
    "from app.models import ProcessedData"
   ]
  },
  {
   "cell_type": "code",
   "execution_count": 2,
   "id": "b479cfd1-08c3-4351-97cd-daea6ee507c8",
   "metadata": {},
   "outputs": [],
   "source": [
    "%load_ext autoreload\n",
    "%autoreload 2"
   ]
  },
  {
   "cell_type": "code",
   "execution_count": null,
   "id": "0021773b-5fc7-406a-8455-2cc1314c6c6e",
   "metadata": {
    "scrolled": true
   },
   "outputs": [
    {
     "name": "stdout",
     "output_type": "stream",
     "text": [
      "{'persona': 'Alex', 'message': \"The heat in Nagoya seems to get worse every year. It's hard to imagine how it was 50 years ago.\"}\n",
      "{'persona': 'Bob', 'message': 'Yeah, I wonder if the temperature patterns have really changed that much.'}\n",
      "{'persona': 'Oscar', 'message': 'It would be interesting to see if summers are getting hotter or winters milder.'}\n"
     ]
    },
    {
     "name": "stderr",
     "output_type": "stream",
     "text": [
      "INFO - HTTP Request: POST https://api.openai.com/v1/chat/completions \"HTTP/1.1 200 OK\"\n",
      "INFO - Visualization needed for message: The heat in Nagoya seems to get worse every year. It's hard to imagine how it was 50 years ago.\n",
      "INFO - HTTP Request: POST https://api.openai.com/v1/chat/completions \"HTTP/1.1 200 OK\"\n",
      "INFO - Selected API endpoint: https://archive-api.open-meteo.com/v1/archive\n",
      "INFO - HTTP Request: POST https://api.openai.com/v1/chat/completions \"HTTP/1.1 200 OK\"\n",
      "INFO - Query https://archive-api.open-meteo.com/v1/archive?latitude=35.1815&longitude=136.9064&start_date=1973-10-01&end_date=2023-10-01&hourly=temperature_2m\n",
      "/home/orion/Dev/research/Gaya/app/main.py:250: FutureWarning: Passing literal json to 'read_json' is deprecated and will be removed in a future version. To read from a literal string, wrap it in a 'StringIO' object.\n",
      "  data = pd.read_json(json.dumps(response.json()))\n"
     ]
    },
    {
     "name": "stdout",
     "output_type": "stream",
     "text": [
      "                 latitude  longitude  generationtime_ms  utc_offset_seconds  \\\n",
      "time            35.184532  136.95152              6.513                   0   \n",
      "temperature_2m  35.184532  136.95152              6.513                   0   \n",
      "\n",
      "               timezone timezone_abbreviation  elevation hourly_units  \\\n",
      "time                GMT                   GMT         23      iso8601   \n",
      "temperature_2m      GMT                   GMT         23           °C   \n",
      "\n",
      "                                                           hourly  \n",
      "time            [1973-10-01T00:00, 1973-10-01T01:00, 1973-10-0...  \n",
      "temperature_2m  [21.1, 22.4, 23.8, 24.8, 25.3, 25.4, 24.8, 23....  \n"
     ]
    }
   ],
   "source": [
    "fig, description = main()"
   ]
  },
  {
   "cell_type": "code",
   "execution_count": null,
   "id": "b8b5686a-a89e-40cb-b4e3-dafa0ce51076",
   "metadata": {},
   "outputs": [],
   "source": [
    "fig.show()\n",
    "print(description)"
   ]
  },
  {
   "cell_type": "code",
   "execution_count": null,
   "id": "b3457961-35e2-40a6-98f4-2891fdec9a16",
   "metadata": {
    "jupyter": {
     "source_hidden": true
    }
   },
   "outputs": [],
   "source": [
    "import plotly.graph_objs as go\n",
    "import plotly.subplots as sp\n",
    "import pandas as pd\n",
    "import numpy as np\n",
    "\n",
    "def visualize(data):\n",
    "    \"\"\"\n",
    "    Dynamic visualization of air quality data using Plotly.\n",
    "    \n",
    "    Args:\n",
    "        data (dict): Air quality data dictionary with hourly measurements\n",
    "    \n",
    "    Returns:\n",
    "        plotly.graph_objs._figure.Figure: Interactive Plotly visualization\n",
    "    \"\"\"\n",
    "    # Extract hourly data and convert to DataFrame\n",
    "    hourly_data = data.get('hourly', {})\n",
    "    \n",
    "    # Prepare DataFrame, handling potential None values\n",
    "    df = pd.DataFrame({\n",
    "        'time': hourly_data.get('time', []),\n",
    "        'pm10': [x if x is not None else np.nan for x in hourly_data.get('pm10', [])],\n",
    "        'pm2_5': [x if x is not None else np.nan for x in hourly_data.get('pm2_5', [])],\n",
    "        'nitrogen_dioxide': [x if x is not None else np.nan for x in hourly_data.get('nitrogen_dioxide', [])],\n",
    "        'ozone': [x if x is not None else np.nan for x in hourly_data.get('ozone', [])]\n",
    "    })\n",
    "    \n",
    "    # Convert time to datetime\n",
    "    df['time'] = pd.to_datetime(df['time'])\n",
    "    \n",
    "    # Create subplots\n",
    "    fig = sp.make_subplots(\n",
    "        rows=2, \n",
    "        cols=2, \n",
    "        subplot_titles=(\n",
    "            'PM10', \n",
    "            'PM2.5', \n",
    "            'Nitrogen Dioxide', \n",
    "            'Ozone'\n",
    "        ),\n",
    "        vertical_spacing=0.1,\n",
    "        horizontal_spacing=0.05\n",
    "    )\n",
    "    \n",
    "    # Color palette\n",
    "    colors = ['blue', 'green', 'red', 'purple']\n",
    "    \n",
    "    # Add traces for each pollutant\n",
    "    pollutants = ['pm10', 'pm2_5', 'nitrogen_dioxide', 'ozone']\n",
    "    \n",
    "    for i, pollutant in enumerate(pollutants, 1):\n",
    "        # Skip if no data\n",
    "        if df[pollutant].dropna().empty:\n",
    "            continue\n",
    "        \n",
    "        row = (i-1)//2 + 1\n",
    "        col = (i-1)%2 + 1\n",
    "        \n",
    "        # Line trace\n",
    "        fig.add_trace(\n",
    "            go.Scatter(\n",
    "                x=df['time'], \n",
    "                y=df[pollutant],\n",
    "                mode='lines',\n",
    "                name=pollutant.replace('_', ' ').title(),\n",
    "                line=dict(color=colors[i-1])\n",
    "            ),\n",
    "            row=row, \n",
    "            col=col\n",
    "        )\n",
    "    \n",
    "    # Update layout\n",
    "    fig.update_layout(\n",
    "        height=800, \n",
    "        width=1200,\n",
    "        title_text='Air Quality Measurements Over Time',\n",
    "        showlegend=False\n",
    "    )\n",
    "    \n",
    "    # Update x and y axis labels\n",
    "    for row in range(1, 3):\n",
    "        for col in range(1, 3):\n",
    "            fig.update_xaxes(\n",
    "                title_text='Time', \n",
    "                row=row, \n",
    "                col=col\n",
    "            )\n",
    "            fig.update_yaxes(\n",
    "                title_text='Concentration (μg/m³)', \n",
    "                row=row, \n",
    "                col=col\n",
    "            )\n",
    "    \n",
    "    return fig\n",
    "\n",
    "# Optional: If you want to show the plot\n",
    "# visualize(data).show()"
   ]
  }
 ],
 "metadata": {
  "kernelspec": {
   "display_name": "Python 3 (ipykernel)",
   "language": "python",
   "name": "python3"
  },
  "language_info": {
   "codemirror_mode": {
    "name": "ipython",
    "version": 3
   },
   "file_extension": ".py",
   "mimetype": "text/x-python",
   "name": "python",
   "nbconvert_exporter": "python",
   "pygments_lexer": "ipython3",
   "version": "3.10.12"
  }
 },
 "nbformat": 4,
 "nbformat_minor": 5
}
