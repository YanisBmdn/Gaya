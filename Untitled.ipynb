{
 "cells": [
  {
   "cell_type": "code",
   "execution_count": 6,
   "id": "a019bdd1-43fb-4e49-8fe5-bc8136eb75d6",
   "metadata": {},
   "outputs": [],
   "source": [
    "from app.main import main\n",
    "from app.models import ProcessedData"
   ]
  },
  {
   "cell_type": "code",
   "execution_count": 7,
   "id": "0021773b-5fc7-406a-8455-2cc1314c6c6e",
   "metadata": {
    "scrolled": true
   },
   "outputs": [
    {
     "name": "stderr",
     "output_type": "stream",
     "text": [
      "INFO - HTTP Request: POST https://api.openai.com/v1/chat/completions \"HTTP/1.1 200 OK\" \n",
      "\n",
      "\n",
      "INFO - Needed viz : I read that some districts have much better air quality than others. Is that true here? \n",
      "\n",
      "\n",
      "INFO - Topic of interest : air quality \n",
      "\n",
      "\n",
      "INFO - HTTP Request: POST https://api.openai.com/v1/chat/completions \"HTTP/1.1 200 OK\" \n",
      "\n",
      "\n",
      "INFO - HTTP Request: POST https://api.anthropic.com/v1/messages \"HTTP/1.1 200 OK\" \n",
      "\n",
      "\n",
      "INFO - Visualization details: \n",
      "        Visualization: Multi-District Air Quality Comparative Analysis\n",
      "        Chart Type: Geographic Heatmap with Time Series Panels\n",
      "        Focus: Spatial and temporal variations in air quality parameters across districts\n",
      "        Visual Elements: Main panel: Geographic heatmap showing district boundaries with color intensity representing current AQI levels; Side panels: 1) Time series sparklines for each district showing 24-hour PM2.5 trends 2) Box plots showing statistical distribution of air quality parameters by district 3) Wind direction overlay arrows indicating potential pollution transport; Color scheme: Sequential multi-hue palette optimized for air quality ranges; Statistical elements: Confidence intervals on time series, outlier identification on box plots; Annotations: Significant inter-district gradient markers, temporal anomaly flags\n",
      "         \n",
      "\n",
      "\n",
      "INFO - HTTP Request: POST https://api.anthropic.com/v1/messages \"HTTP/1.1 200 OK\" \n",
      "\n",
      "\n",
      "INFO - Data requirements: needed_data='From air-quality-api.open-meteo.com:\\n1. PM2.5 (pm2_5)\\n2. PM10 (pm10)\\n3. European AQI (european_aqi)\\n4. Wind speed and direction from archive-api (wind_speed_10m)\\nTime range: Past 24 hours + forecast 24 hours\\nGeographic scope: Multiple district coordinates\\nResolution: Hourly values\\nRequired parameters: latitude/longitude pairs for each district' data_processing_steps='Step 1: Collect hourly AQI and PM data for each district coordinate pair\\nStep 2: Calculate district-level aggregates (mean, median, min, max) for each air quality parameter\\nStep 3: Compute inter-district gradients and identify significant differences\\nStep 4: Process 24-hour time series for PM2.5 trends\\nStep 5: Calculate statistical distributions for box plots\\nStep 6: Process wind data to create direction vectors\\nStep 7: Identify temporal anomalies and outliers\\nStep 8: Generate confidence intervals for time series data' \n",
      "\n",
      "\n",
      "INFO - HTTP Request: POST https://api.anthropic.com/v1/messages \"HTTP/1.1 200 OK\" \n",
      "\n",
      "\n",
      "INFO - Raw data: endpoints=[APIEndpoint(url='https://air-quality-api.open-meteo.com/v1/air-quality?latitude=35.1815&longitude=136.9064&hourly=pm2_5,pm10,european_aqi&past_hours=24&forecast_hours=24'), APIEndpoint(url='https://archive-api.open-meteo.com/v1/archive?latitude=35.1815&longitude=136.9064&hourly=wind_speed_10m&start_date=2024-01-21&end_date=2024-01-23')] \n",
      "\n",
      "\n",
      "INFO - HTTP Request: POST https://api.anthropic.com/v1/messages \"HTTP/1.1 200 OK\" \n",
      "\n",
      "\n"
     ]
    },
    {
     "name": "stdout",
     "output_type": "stream",
     "text": [
      "def visualize(data: List[NormalizedOpenMeteoData]) -> go.Figure:\n",
      "    '''\n",
      "    Process raw climate data from OpenMeteo API and generate a Plotly visualization.\n",
      "    '''\n",
      "    import pandas as pd\n",
      "    import numpy as np\n",
      "    import plotly.graph_objects as go\n",
      "    from plotly.subplots import make_subplots\n",
      "    from typing import List\n",
      "    \n",
      "    # Data validation and processing\n",
      "    if not data or len(data) < 2:\n",
      "        raise ValueError(\"Insufficient data for visualization\")\n",
      "        \n",
      "    # Extract AQI and wind data\n",
      "    aqi_data = data[0].hourly_data\n",
      "    wind_data = data[1].hourly_data\n",
      "    \n",
      "    # Merge datasets on timestamp\n",
      "    merged_df = pd.merge(aqi_data, wind_data, on='time', how='outer')\n",
      "    merged_df['time'] = pd.to_datetime(merged_df['time'])\n",
      "    \n",
      "    # Calculate statistical measures\n",
      "    stats = {\n",
      "        'pm2_5_mean': merged_df['pm2_5'].mean(),\n",
      "        'pm2_5_std': merged_df['pm2_5'].std(),\n",
      "        'pm10_mean': merged_df['pm10'].mean(),\n",
      "        'pm10_std': merged_df['pm10'].std(),\n",
      "        'wind_mean': merged_df['wind_speed_10m'].mean()\n",
      "    }\n",
      "    \n",
      "    # Create subplots layout\n",
      "    fig = make_subplots(\n",
      "        rows=2, cols=2,\n",
      "        subplot_titles=(\n",
      "            'PM2.5 Time Series with Confidence Interval',\n",
      "            'PM10 vs PM2.5 Distribution',\n",
      "            'Wind Speed vs Air Quality Index',\n",
      "            'Daily AQI Pattern'\n",
      "        ),\n",
      "        specs=[[{\"secondary_y\": True}, {\"type\": \"box\"}],\n",
      "               [{\"type\": \"scatter\"}, {\"type\": \"scatter\"}]]\n",
      "    )\n",
      "    \n",
      "    # 1. PM2.5 Time Series with Confidence Interval\n",
      "    ci = 1.96 * stats['pm2_5_std']\n",
      "    fig.add_trace(\n",
      "        go.Scatter(\n",
      "            x=merged_df['time'],\n",
      "            y=merged_df['pm2_5'],\n",
      "            name='PM2.5',\n",
      "            line=dict(color='rgb(31, 119, 180)'),\n",
      "        ),\n",
      "        row=1, col=1\n",
      "    )\n",
      "    fig.add_trace(\n",
      "        go.Scatter(\n",
      "            x=merged_df['time'],\n",
      "            y=merged_df['pm2_5'] + ci,\n",
      "            fill=None,\n",
      "            mode='lines',\n",
      "            line_color='rgba(31, 119, 180, 0.2)',\n",
      "            showlegend=False\n",
      "        ),\n",
      "        row=1, col=1\n",
      "    )\n",
      "    fig.add_trace(\n",
      "        go.Scatter(\n",
      "            x=merged_df['time'],\n",
      "            y=merged_df['pm2_5'] - ci,\n",
      "            fill='tonexty',\n",
      "            mode='lines',\n",
      "            line_color='rgba(31, 119, 180, 0.2)',\n",
      "            name='95% CI'\n",
      "        ),\n",
      "        row=1, col=1\n",
      "    )\n",
      "    \n",
      "    # 2. PM10 vs PM2.5 Distribution\n",
      "    fig.add_trace(\n",
      "        go.Box(\n",
      "            y=merged_df['pm2_5'],\n",
      "            name='PM2.5',\n",
      "            boxpoints='outliers'\n",
      "        ),\n",
      "        row=1, col=2\n",
      "    )\n",
      "    fig.add_trace(\n",
      "        go.Box(\n",
      "            y=merged_df['pm10'],\n",
      "            name='PM10',\n",
      "            boxpoints='outliers'\n",
      "        ),\n",
      "        row=1, col=2\n",
      "    )\n",
      "    \n",
      "    # 3. Wind Speed vs Air Quality Index\n",
      "    fig.add_trace(\n",
      "        go.Scatter(\n",
      "            x=merged_df['wind_speed_10m'],\n",
      "            y=merged_df['european_aqi'],\n",
      "            mode='markers',\n",
      "            marker=dict(\n",
      "                size=8,\n",
      "                color=merged_df['pm2_5'],\n",
      "                colorscale='Viridis',\n",
      "                showscale=True,\n",
      "                colorbar=dict(title='PM2.5')\n",
      "            ),\n",
      "            name='AQI vs Wind'\n",
      "        ),\n",
      "        row=2, col=1\n",
      "    )\n",
      "    \n",
      "    # 4. Daily AQI Pattern\n",
      "    merged_df['hour'] = merged_df['time'].dt.hour\n",
      "    hourly_aqi = merged_df.groupby('hour')['european_aqi'].mean()\n",
      "    fig.add_trace(\n",
      "        go.Scatter(\n",
      "            x=hourly_aqi.index,\n",
      "            y=hourly_aqi.values,\n",
      "            mode='lines+markers',\n",
      "            name='Avg AQI by Hour',\n",
      "            line=dict(color='rgb(214, 39, 40)')\n",
      "        ),\n",
      "        row=2, col=2\n",
      "    )\n",
      "    \n",
      "    # Update layout with proper labels and styling\n",
      "    fig.update_layout(\n",
      "        title='Multi-Parameter Air Quality Analysis Dashboard',\n",
      "        height=800,\n",
      "        showlegend=True,\n",
      "        template='plotly_white',\n",
      "        font=dict(size=10)\n",
      "    )\n",
      "    \n",
      "    # Update axes labels\n",
      "    fig.update_xaxes(title_text=\"Time\", row=1, col=1)\n",
      "    fig.update_yaxes(title_text=\"Concentration (μg/m³)\", row=1, col=1)\n",
      "    fig.update_yaxes(title_text=\"Concentration (μg/m³)\", row=1, col=2)\n",
      "    fig.update_xaxes(title_text=\"Wind Speed (km/h)\", row=2, col=1)\n",
      "    fig.update_yaxes(title_text=\"European AQI\", row=2, col=1)\n",
      "    fig.update_xaxes(title_text=\"Hour of Day\", row=2, col=2)\n",
      "    fig.update_yaxes(title_text=\"Average AQI\", row=2, col=2)\n",
      "    \n",
      "    return fig\n"
     ]
    },
    {
     "name": "stderr",
     "output_type": "stream",
     "text": [
      "INFO - HTTP Request: POST https://api.anthropic.com/v1/messages \"HTTP/1.1 200 OK\" \n",
      "\n",
      "\n",
      "INFO - HTTP Request: POST https://api.anthropic.com/v1/messages \"HTTP/1.1 200 OK\" \n",
      "\n",
      "\n"
     ]
    },
    {
     "name": "stdout",
     "output_type": "stream",
     "text": [
      "OPENAI spent tokens = (1922, 70)\n",
      "ANTHROPIC spent tokens = 0.11$, 0.11$\n"
     ]
    }
   ],
   "source": [
    "fig, description = main()"
   ]
  },
  {
   "cell_type": "code",
   "execution_count": 8,
   "id": "b8b5686a-a89e-40cb-b4e3-dafa0ce51076",
   "metadata": {},
   "outputs": [
    {
     "data": {
      "application/vnd.plotly.v1+json": {
       "config": {
        "plotlyServerURL": "https://plot.ly"
       },
       "data": [
        {
         "line": {
          "color": "rgb(31, 119, 180)"
         },
         "name": "PM2.5",
         "type": "scatter",
         "x": [
          "2024-01-21T00:00:00",
          "2024-01-21T01:00:00",
          "2024-01-21T02:00:00",
          "2024-01-21T03:00:00",
          "2024-01-21T04:00:00",
          "2024-01-21T05:00:00",
          "2024-01-21T06:00:00",
          "2024-01-21T07:00:00",
          "2024-01-21T08:00:00",
          "2024-01-21T09:00:00",
          "2024-01-21T10:00:00",
          "2024-01-21T11:00:00",
          "2024-01-21T12:00:00",
          "2024-01-21T13:00:00",
          "2024-01-21T14:00:00",
          "2024-01-21T15:00:00",
          "2024-01-21T16:00:00",
          "2024-01-21T17:00:00",
          "2024-01-21T18:00:00",
          "2024-01-21T19:00:00",
          "2024-01-21T20:00:00",
          "2024-01-21T21:00:00",
          "2024-01-21T22:00:00",
          "2024-01-21T23:00:00",
          "2024-01-22T00:00:00",
          "2024-01-22T01:00:00",
          "2024-01-22T02:00:00",
          "2024-01-22T03:00:00",
          "2024-01-22T04:00:00",
          "2024-01-22T05:00:00",
          "2024-01-22T06:00:00",
          "2024-01-22T07:00:00",
          "2024-01-22T08:00:00",
          "2024-01-22T09:00:00",
          "2024-01-22T10:00:00",
          "2024-01-22T11:00:00",
          "2024-01-22T12:00:00",
          "2024-01-22T13:00:00",
          "2024-01-22T14:00:00",
          "2024-01-22T15:00:00",
          "2024-01-22T16:00:00",
          "2024-01-22T17:00:00",
          "2024-01-22T18:00:00",
          "2024-01-22T19:00:00",
          "2024-01-22T20:00:00",
          "2024-01-22T21:00:00",
          "2024-01-22T22:00:00",
          "2024-01-22T23:00:00",
          "2024-01-23T00:00:00",
          "2024-01-23T01:00:00",
          "2024-01-23T02:00:00",
          "2024-01-23T03:00:00",
          "2024-01-23T04:00:00",
          "2024-01-23T05:00:00",
          "2024-01-23T06:00:00",
          "2024-01-23T07:00:00",
          "2024-01-23T08:00:00",
          "2024-01-23T09:00:00",
          "2024-01-23T10:00:00",
          "2024-01-23T11:00:00",
          "2024-01-23T12:00:00",
          "2024-01-23T13:00:00",
          "2024-01-23T14:00:00",
          "2024-01-23T15:00:00",
          "2024-01-23T16:00:00",
          "2024-01-23T17:00:00",
          "2024-01-23T18:00:00",
          "2024-01-23T19:00:00",
          "2024-01-23T20:00:00",
          "2024-01-23T21:00:00",
          "2024-01-23T22:00:00",
          "2024-01-23T23:00:00",
          "2025-02-06T05:00:00",
          "2025-02-06T06:00:00",
          "2025-02-06T07:00:00",
          "2025-02-06T08:00:00",
          "2025-02-06T09:00:00",
          "2025-02-06T10:00:00",
          "2025-02-06T11:00:00",
          "2025-02-06T12:00:00",
          "2025-02-06T13:00:00",
          "2025-02-06T14:00:00",
          "2025-02-06T15:00:00",
          "2025-02-06T16:00:00",
          "2025-02-06T17:00:00",
          "2025-02-06T18:00:00",
          "2025-02-06T19:00:00",
          "2025-02-06T20:00:00",
          "2025-02-06T21:00:00",
          "2025-02-06T22:00:00",
          "2025-02-06T23:00:00",
          "2025-02-07T00:00:00",
          "2025-02-07T01:00:00",
          "2025-02-07T02:00:00",
          "2025-02-07T03:00:00",
          "2025-02-07T04:00:00",
          "2025-02-07T05:00:00",
          "2025-02-07T06:00:00",
          "2025-02-07T07:00:00",
          "2025-02-07T08:00:00",
          "2025-02-07T09:00:00",
          "2025-02-07T10:00:00",
          "2025-02-07T11:00:00",
          "2025-02-07T12:00:00",
          "2025-02-07T13:00:00",
          "2025-02-07T14:00:00",
          "2025-02-07T15:00:00",
          "2025-02-07T16:00:00",
          "2025-02-07T17:00:00",
          "2025-02-07T18:00:00",
          "2025-02-07T19:00:00",
          "2025-02-07T20:00:00",
          "2025-02-07T21:00:00",
          "2025-02-07T22:00:00",
          "2025-02-07T23:00:00",
          "2025-02-08T00:00:00",
          "2025-02-08T01:00:00",
          "2025-02-08T02:00:00",
          "2025-02-08T03:00:00",
          "2025-02-08T04:00:00"
         ],
         "xaxis": "x",
         "y": [
          null,
          null,
          null,
          null,
          null,
          null,
          null,
          null,
          null,
          null,
          null,
          null,
          null,
          null,
          null,
          null,
          null,
          null,
          null,
          null,
          null,
          null,
          null,
          null,
          null,
          null,
          null,
          null,
          null,
          null,
          null,
          null,
          null,
          null,
          null,
          null,
          null,
          null,
          null,
          null,
          null,
          null,
          null,
          null,
          null,
          null,
          null,
          null,
          null,
          null,
          null,
          null,
          null,
          null,
          null,
          null,
          null,
          null,
          null,
          null,
          null,
          null,
          null,
          null,
          null,
          null,
          null,
          null,
          null,
          null,
          null,
          null,
          6.9,
          6.5,
          5.9,
          6.1,
          6.7,
          6.8,
          6.4,
          6.5,
          5.6,
          5.6,
          5.8,
          6.1,
          6.3,
          6.5,
          6.7,
          7.1,
          8.1,
          11.5,
          12.2,
          12,
          12.7,
          13.1,
          13.2,
          13.2,
          13.2,
          13.7,
          14.9,
          14.8,
          14.9,
          14.1,
          14,
          12.3,
          9.9,
          10,
          11.3,
          12,
          11.4,
          10.2,
          9.9,
          9.8,
          9.6,
          9.9,
          10.2,
          9.4,
          9.2,
          8.8,
          8.4,
          7.4
         ],
         "yaxis": "y"
        },
        {
         "line": {
          "color": "rgba(31, 119, 180, 0.2)"
         },
         "mode": "lines",
         "showlegend": false,
         "type": "scatter",
         "x": [
          "2024-01-21T00:00:00",
          "2024-01-21T01:00:00",
          "2024-01-21T02:00:00",
          "2024-01-21T03:00:00",
          "2024-01-21T04:00:00",
          "2024-01-21T05:00:00",
          "2024-01-21T06:00:00",
          "2024-01-21T07:00:00",
          "2024-01-21T08:00:00",
          "2024-01-21T09:00:00",
          "2024-01-21T10:00:00",
          "2024-01-21T11:00:00",
          "2024-01-21T12:00:00",
          "2024-01-21T13:00:00",
          "2024-01-21T14:00:00",
          "2024-01-21T15:00:00",
          "2024-01-21T16:00:00",
          "2024-01-21T17:00:00",
          "2024-01-21T18:00:00",
          "2024-01-21T19:00:00",
          "2024-01-21T20:00:00",
          "2024-01-21T21:00:00",
          "2024-01-21T22:00:00",
          "2024-01-21T23:00:00",
          "2024-01-22T00:00:00",
          "2024-01-22T01:00:00",
          "2024-01-22T02:00:00",
          "2024-01-22T03:00:00",
          "2024-01-22T04:00:00",
          "2024-01-22T05:00:00",
          "2024-01-22T06:00:00",
          "2024-01-22T07:00:00",
          "2024-01-22T08:00:00",
          "2024-01-22T09:00:00",
          "2024-01-22T10:00:00",
          "2024-01-22T11:00:00",
          "2024-01-22T12:00:00",
          "2024-01-22T13:00:00",
          "2024-01-22T14:00:00",
          "2024-01-22T15:00:00",
          "2024-01-22T16:00:00",
          "2024-01-22T17:00:00",
          "2024-01-22T18:00:00",
          "2024-01-22T19:00:00",
          "2024-01-22T20:00:00",
          "2024-01-22T21:00:00",
          "2024-01-22T22:00:00",
          "2024-01-22T23:00:00",
          "2024-01-23T00:00:00",
          "2024-01-23T01:00:00",
          "2024-01-23T02:00:00",
          "2024-01-23T03:00:00",
          "2024-01-23T04:00:00",
          "2024-01-23T05:00:00",
          "2024-01-23T06:00:00",
          "2024-01-23T07:00:00",
          "2024-01-23T08:00:00",
          "2024-01-23T09:00:00",
          "2024-01-23T10:00:00",
          "2024-01-23T11:00:00",
          "2024-01-23T12:00:00",
          "2024-01-23T13:00:00",
          "2024-01-23T14:00:00",
          "2024-01-23T15:00:00",
          "2024-01-23T16:00:00",
          "2024-01-23T17:00:00",
          "2024-01-23T18:00:00",
          "2024-01-23T19:00:00",
          "2024-01-23T20:00:00",
          "2024-01-23T21:00:00",
          "2024-01-23T22:00:00",
          "2024-01-23T23:00:00",
          "2025-02-06T05:00:00",
          "2025-02-06T06:00:00",
          "2025-02-06T07:00:00",
          "2025-02-06T08:00:00",
          "2025-02-06T09:00:00",
          "2025-02-06T10:00:00",
          "2025-02-06T11:00:00",
          "2025-02-06T12:00:00",
          "2025-02-06T13:00:00",
          "2025-02-06T14:00:00",
          "2025-02-06T15:00:00",
          "2025-02-06T16:00:00",
          "2025-02-06T17:00:00",
          "2025-02-06T18:00:00",
          "2025-02-06T19:00:00",
          "2025-02-06T20:00:00",
          "2025-02-06T21:00:00",
          "2025-02-06T22:00:00",
          "2025-02-06T23:00:00",
          "2025-02-07T00:00:00",
          "2025-02-07T01:00:00",
          "2025-02-07T02:00:00",
          "2025-02-07T03:00:00",
          "2025-02-07T04:00:00",
          "2025-02-07T05:00:00",
          "2025-02-07T06:00:00",
          "2025-02-07T07:00:00",
          "2025-02-07T08:00:00",
          "2025-02-07T09:00:00",
          "2025-02-07T10:00:00",
          "2025-02-07T11:00:00",
          "2025-02-07T12:00:00",
          "2025-02-07T13:00:00",
          "2025-02-07T14:00:00",
          "2025-02-07T15:00:00",
          "2025-02-07T16:00:00",
          "2025-02-07T17:00:00",
          "2025-02-07T18:00:00",
          "2025-02-07T19:00:00",
          "2025-02-07T20:00:00",
          "2025-02-07T21:00:00",
          "2025-02-07T22:00:00",
          "2025-02-07T23:00:00",
          "2025-02-08T00:00:00",
          "2025-02-08T01:00:00",
          "2025-02-08T02:00:00",
          "2025-02-08T03:00:00",
          "2025-02-08T04:00:00"
         ],
         "xaxis": "x",
         "y": [
          null,
          null,
          null,
          null,
          null,
          null,
          null,
          null,
          null,
          null,
          null,
          null,
          null,
          null,
          null,
          null,
          null,
          null,
          null,
          null,
          null,
          null,
          null,
          null,
          null,
          null,
          null,
          null,
          null,
          null,
          null,
          null,
          null,
          null,
          null,
          null,
          null,
          null,
          null,
          null,
          null,
          null,
          null,
          null,
          null,
          null,
          null,
          null,
          null,
          null,
          null,
          null,
          null,
          null,
          null,
          null,
          null,
          null,
          null,
          null,
          null,
          null,
          null,
          null,
          null,
          null,
          null,
          null,
          null,
          null,
          null,
          null,
          12.74717219160663,
          12.34717219160663,
          11.74717219160663,
          11.94717219160663,
          12.54717219160663,
          12.647172191606629,
          12.24717219160663,
          12.34717219160663,
          11.44717219160663,
          11.44717219160663,
          11.647172191606629,
          11.94717219160663,
          12.147172191606629,
          12.34717219160663,
          12.54717219160663,
          12.94717219160663,
          13.94717219160663,
          17.34717219160663,
          18.047172191606627,
          17.84717219160663,
          18.547172191606627,
          18.94717219160663,
          19.047172191606627,
          19.047172191606627,
          19.047172191606627,
          19.547172191606627,
          20.74717219160663,
          20.64717219160663,
          20.74717219160663,
          19.94717219160663,
          19.84717219160663,
          18.14717219160663,
          15.74717219160663,
          15.84717219160663,
          17.14717219160663,
          17.84717219160663,
          17.24717219160663,
          16.047172191606627,
          15.74717219160663,
          15.64717219160663,
          15.44717219160663,
          15.74717219160663,
          16.047172191606627,
          15.24717219160663,
          15.047172191606629,
          14.64717219160663,
          14.24717219160663,
          13.24717219160663
         ],
         "yaxis": "y"
        },
        {
         "fill": "tonexty",
         "line": {
          "color": "rgba(31, 119, 180, 0.2)"
         },
         "mode": "lines",
         "name": "95% CI",
         "type": "scatter",
         "x": [
          "2024-01-21T00:00:00",
          "2024-01-21T01:00:00",
          "2024-01-21T02:00:00",
          "2024-01-21T03:00:00",
          "2024-01-21T04:00:00",
          "2024-01-21T05:00:00",
          "2024-01-21T06:00:00",
          "2024-01-21T07:00:00",
          "2024-01-21T08:00:00",
          "2024-01-21T09:00:00",
          "2024-01-21T10:00:00",
          "2024-01-21T11:00:00",
          "2024-01-21T12:00:00",
          "2024-01-21T13:00:00",
          "2024-01-21T14:00:00",
          "2024-01-21T15:00:00",
          "2024-01-21T16:00:00",
          "2024-01-21T17:00:00",
          "2024-01-21T18:00:00",
          "2024-01-21T19:00:00",
          "2024-01-21T20:00:00",
          "2024-01-21T21:00:00",
          "2024-01-21T22:00:00",
          "2024-01-21T23:00:00",
          "2024-01-22T00:00:00",
          "2024-01-22T01:00:00",
          "2024-01-22T02:00:00",
          "2024-01-22T03:00:00",
          "2024-01-22T04:00:00",
          "2024-01-22T05:00:00",
          "2024-01-22T06:00:00",
          "2024-01-22T07:00:00",
          "2024-01-22T08:00:00",
          "2024-01-22T09:00:00",
          "2024-01-22T10:00:00",
          "2024-01-22T11:00:00",
          "2024-01-22T12:00:00",
          "2024-01-22T13:00:00",
          "2024-01-22T14:00:00",
          "2024-01-22T15:00:00",
          "2024-01-22T16:00:00",
          "2024-01-22T17:00:00",
          "2024-01-22T18:00:00",
          "2024-01-22T19:00:00",
          "2024-01-22T20:00:00",
          "2024-01-22T21:00:00",
          "2024-01-22T22:00:00",
          "2024-01-22T23:00:00",
          "2024-01-23T00:00:00",
          "2024-01-23T01:00:00",
          "2024-01-23T02:00:00",
          "2024-01-23T03:00:00",
          "2024-01-23T04:00:00",
          "2024-01-23T05:00:00",
          "2024-01-23T06:00:00",
          "2024-01-23T07:00:00",
          "2024-01-23T08:00:00",
          "2024-01-23T09:00:00",
          "2024-01-23T10:00:00",
          "2024-01-23T11:00:00",
          "2024-01-23T12:00:00",
          "2024-01-23T13:00:00",
          "2024-01-23T14:00:00",
          "2024-01-23T15:00:00",
          "2024-01-23T16:00:00",
          "2024-01-23T17:00:00",
          "2024-01-23T18:00:00",
          "2024-01-23T19:00:00",
          "2024-01-23T20:00:00",
          "2024-01-23T21:00:00",
          "2024-01-23T22:00:00",
          "2024-01-23T23:00:00",
          "2025-02-06T05:00:00",
          "2025-02-06T06:00:00",
          "2025-02-06T07:00:00",
          "2025-02-06T08:00:00",
          "2025-02-06T09:00:00",
          "2025-02-06T10:00:00",
          "2025-02-06T11:00:00",
          "2025-02-06T12:00:00",
          "2025-02-06T13:00:00",
          "2025-02-06T14:00:00",
          "2025-02-06T15:00:00",
          "2025-02-06T16:00:00",
          "2025-02-06T17:00:00",
          "2025-02-06T18:00:00",
          "2025-02-06T19:00:00",
          "2025-02-06T20:00:00",
          "2025-02-06T21:00:00",
          "2025-02-06T22:00:00",
          "2025-02-06T23:00:00",
          "2025-02-07T00:00:00",
          "2025-02-07T01:00:00",
          "2025-02-07T02:00:00",
          "2025-02-07T03:00:00",
          "2025-02-07T04:00:00",
          "2025-02-07T05:00:00",
          "2025-02-07T06:00:00",
          "2025-02-07T07:00:00",
          "2025-02-07T08:00:00",
          "2025-02-07T09:00:00",
          "2025-02-07T10:00:00",
          "2025-02-07T11:00:00",
          "2025-02-07T12:00:00",
          "2025-02-07T13:00:00",
          "2025-02-07T14:00:00",
          "2025-02-07T15:00:00",
          "2025-02-07T16:00:00",
          "2025-02-07T17:00:00",
          "2025-02-07T18:00:00",
          "2025-02-07T19:00:00",
          "2025-02-07T20:00:00",
          "2025-02-07T21:00:00",
          "2025-02-07T22:00:00",
          "2025-02-07T23:00:00",
          "2025-02-08T00:00:00",
          "2025-02-08T01:00:00",
          "2025-02-08T02:00:00",
          "2025-02-08T03:00:00",
          "2025-02-08T04:00:00"
         ],
         "xaxis": "x",
         "y": [
          null,
          null,
          null,
          null,
          null,
          null,
          null,
          null,
          null,
          null,
          null,
          null,
          null,
          null,
          null,
          null,
          null,
          null,
          null,
          null,
          null,
          null,
          null,
          null,
          null,
          null,
          null,
          null,
          null,
          null,
          null,
          null,
          null,
          null,
          null,
          null,
          null,
          null,
          null,
          null,
          null,
          null,
          null,
          null,
          null,
          null,
          null,
          null,
          null,
          null,
          null,
          null,
          null,
          null,
          null,
          null,
          null,
          null,
          null,
          null,
          null,
          null,
          null,
          null,
          null,
          null,
          null,
          null,
          null,
          null,
          null,
          null,
          1.0528278083933706,
          0.6528278083933703,
          0.052827808393370645,
          0.25282780839336993,
          0.8528278083933705,
          0.9528278083933701,
          0.5528278083933706,
          0.6528278083933703,
          -0.24717219160663007,
          -0.24717219160663007,
          -0.04717219160662989,
          0.25282780839336993,
          0.4528278083933701,
          0.6528278083933703,
          0.8528278083933705,
          1.25282780839337,
          2.25282780839337,
          5.65282780839337,
          6.35282780839337,
          6.15282780839337,
          6.85282780839337,
          7.25282780839337,
          7.35282780839337,
          7.35282780839337,
          7.35282780839337,
          7.85282780839337,
          9.05282780839337,
          8.952827808393371,
          9.05282780839337,
          8.25282780839337,
          8.15282780839337,
          6.452827808393371,
          4.052827808393371,
          4.15282780839337,
          5.452827808393371,
          6.15282780839337,
          5.552827808393371,
          4.35282780839337,
          4.052827808393371,
          3.952827808393371,
          3.75282780839337,
          4.052827808393371,
          4.35282780839337,
          3.5528278083933706,
          3.3528278083933696,
          2.952827808393371,
          2.5528278083933706,
          1.5528278083933706
         ],
         "yaxis": "y"
        },
        {
         "boxpoints": "outliers",
         "name": "PM2.5",
         "type": "box",
         "xaxis": "x2",
         "y": [
          null,
          null,
          null,
          null,
          null,
          null,
          null,
          null,
          null,
          null,
          null,
          null,
          null,
          null,
          null,
          null,
          null,
          null,
          null,
          null,
          null,
          null,
          null,
          null,
          null,
          null,
          null,
          null,
          null,
          null,
          null,
          null,
          null,
          null,
          null,
          null,
          null,
          null,
          null,
          null,
          null,
          null,
          null,
          null,
          null,
          null,
          null,
          null,
          null,
          null,
          null,
          null,
          null,
          null,
          null,
          null,
          null,
          null,
          null,
          null,
          null,
          null,
          null,
          null,
          null,
          null,
          null,
          null,
          null,
          null,
          null,
          null,
          6.9,
          6.5,
          5.9,
          6.1,
          6.7,
          6.8,
          6.4,
          6.5,
          5.6,
          5.6,
          5.8,
          6.1,
          6.3,
          6.5,
          6.7,
          7.1,
          8.1,
          11.5,
          12.2,
          12,
          12.7,
          13.1,
          13.2,
          13.2,
          13.2,
          13.7,
          14.9,
          14.8,
          14.9,
          14.1,
          14,
          12.3,
          9.9,
          10,
          11.3,
          12,
          11.4,
          10.2,
          9.9,
          9.8,
          9.6,
          9.9,
          10.2,
          9.4,
          9.2,
          8.8,
          8.4,
          7.4
         ],
         "yaxis": "y3"
        },
        {
         "boxpoints": "outliers",
         "name": "PM10",
         "type": "box",
         "xaxis": "x2",
         "y": [
          null,
          null,
          null,
          null,
          null,
          null,
          null,
          null,
          null,
          null,
          null,
          null,
          null,
          null,
          null,
          null,
          null,
          null,
          null,
          null,
          null,
          null,
          null,
          null,
          null,
          null,
          null,
          null,
          null,
          null,
          null,
          null,
          null,
          null,
          null,
          null,
          null,
          null,
          null,
          null,
          null,
          null,
          null,
          null,
          null,
          null,
          null,
          null,
          null,
          null,
          null,
          null,
          null,
          null,
          null,
          null,
          null,
          null,
          null,
          null,
          null,
          null,
          null,
          null,
          null,
          null,
          null,
          null,
          null,
          null,
          null,
          null,
          9.1,
          8.6,
          7.7,
          7.7,
          8.1,
          8.1,
          7.7,
          8.5,
          7.3,
          7.6,
          8.1,
          8.8,
          9.1,
          9.3,
          9.5,
          9.7,
          10.6,
          14.1,
          15.3,
          15.8,
          17.5,
          18.8,
          19.3,
          19.2,
          19.1,
          20.7,
          23.1,
          21.4,
          20.8,
          19.3,
          19.7,
          17.3,
          13.6,
          13.2,
          14.8,
          15.9,
          15.7,
          14.4,
          14.3,
          14.4,
          14.2,
          14.5,
          14.6,
          13.6,
          13.3,
          12.9,
          12.3,
          10.9
         ],
         "yaxis": "y3"
        },
        {
         "marker": {
          "color": [
           null,
           null,
           null,
           null,
           null,
           null,
           null,
           null,
           null,
           null,
           null,
           null,
           null,
           null,
           null,
           null,
           null,
           null,
           null,
           null,
           null,
           null,
           null,
           null,
           null,
           null,
           null,
           null,
           null,
           null,
           null,
           null,
           null,
           null,
           null,
           null,
           null,
           null,
           null,
           null,
           null,
           null,
           null,
           null,
           null,
           null,
           null,
           null,
           null,
           null,
           null,
           null,
           null,
           null,
           null,
           null,
           null,
           null,
           null,
           null,
           null,
           null,
           null,
           null,
           null,
           null,
           null,
           null,
           null,
           null,
           null,
           null,
           6.9,
           6.5,
           5.9,
           6.1,
           6.7,
           6.8,
           6.4,
           6.5,
           5.6,
           5.6,
           5.8,
           6.1,
           6.3,
           6.5,
           6.7,
           7.1,
           8.1,
           11.5,
           12.2,
           12,
           12.7,
           13.1,
           13.2,
           13.2,
           13.2,
           13.7,
           14.9,
           14.8,
           14.9,
           14.1,
           14,
           12.3,
           9.9,
           10,
           11.3,
           12,
           11.4,
           10.2,
           9.9,
           9.8,
           9.6,
           9.9,
           10.2,
           9.4,
           9.2,
           8.8,
           8.4,
           7.4
          ],
          "colorbar": {
           "title": {
            "text": "PM2.5"
           }
          },
          "colorscale": [
           [
            0,
            "#440154"
           ],
           [
            0.1111111111111111,
            "#482878"
           ],
           [
            0.2222222222222222,
            "#3e4989"
           ],
           [
            0.3333333333333333,
            "#31688e"
           ],
           [
            0.4444444444444444,
            "#26828e"
           ],
           [
            0.5555555555555556,
            "#1f9e89"
           ],
           [
            0.6666666666666666,
            "#35b779"
           ],
           [
            0.7777777777777778,
            "#6ece58"
           ],
           [
            0.8888888888888888,
            "#b5de2b"
           ],
           [
            1,
            "#fde725"
           ]
          ],
          "showscale": true,
          "size": 8
         },
         "mode": "markers",
         "name": "AQI vs Wind",
         "type": "scatter",
         "x": [
          16.6,
          14.3,
          13.1,
          12.2,
          16.6,
          29,
          34,
          37.4,
          35.4,
          34.1,
          31.8,
          30,
          28.5,
          30,
          29.5,
          27.8,
          30.3,
          29.3,
          23.2,
          20.6,
          18.7,
          17.3,
          17.6,
          14.4,
          15.8,
          12.4,
          9.5,
          9.7,
          7.4,
          2,
          6.8,
          7.4,
          7,
          7.9,
          3.9,
          11.4,
          14.7,
          15,
          20.2,
          20.1,
          26.7,
          26.6,
          25.8,
          26.9,
          24.3,
          23,
          21.6,
          21.8,
          26.2,
          30.8,
          32.8,
          31.6,
          28.9,
          28.4,
          27.5,
          25,
          18.3,
          14,
          4.2,
          11.2,
          18.7,
          17.6,
          18,
          13.5,
          12.9,
          23.5,
          25,
          22.4,
          22.6,
          18.4,
          19.4,
          17.6,
          null,
          null,
          null,
          null,
          null,
          null,
          null,
          null,
          null,
          null,
          null,
          null,
          null,
          null,
          null,
          null,
          null,
          null,
          null,
          null,
          null,
          null,
          null,
          null,
          null,
          null,
          null,
          null,
          null,
          null,
          null,
          null,
          null,
          null,
          null,
          null,
          null,
          null,
          null,
          null,
          null,
          null,
          null,
          null,
          null,
          null,
          null,
          null
         ],
         "xaxis": "x3",
         "y": [
          null,
          null,
          null,
          null,
          null,
          null,
          null,
          null,
          null,
          null,
          null,
          null,
          null,
          null,
          null,
          null,
          null,
          null,
          null,
          null,
          null,
          null,
          null,
          null,
          null,
          null,
          null,
          null,
          null,
          null,
          null,
          null,
          null,
          null,
          null,
          null,
          null,
          null,
          null,
          null,
          null,
          null,
          null,
          null,
          null,
          null,
          null,
          null,
          null,
          null,
          null,
          null,
          null,
          null,
          null,
          null,
          null,
          null,
          null,
          null,
          null,
          null,
          null,
          null,
          null,
          null,
          null,
          null,
          null,
          null,
          null,
          null,
          36,
          35,
          34,
          33,
          32,
          31,
          31,
          33,
          33,
          34,
          34,
          34,
          33,
          32,
          31,
          30,
          28,
          28,
          28,
          28,
          30,
          31,
          33,
          34,
          35,
          35,
          34,
          32,
          30,
          30,
          30,
          30,
          31,
          31,
          32,
          32,
          33,
          33,
          33,
          33,
          32,
          31,
          30,
          29,
          29,
          31,
          32,
          33
         ],
         "yaxis": "y4"
        },
        {
         "line": {
          "color": "rgb(214, 39, 40)"
         },
         "mode": "lines+markers",
         "name": "Avg AQI by Hour",
         "type": "scatter",
         "x": [
          0,
          1,
          2,
          3,
          4,
          5,
          6,
          7,
          8,
          9,
          10,
          11,
          12,
          13,
          14,
          15,
          16,
          17,
          18,
          19,
          20,
          21,
          22,
          23
         ],
         "xaxis": "x4",
         "y": [
          28.5,
          29.5,
          31,
          32.5,
          33.5,
          35.5,
          35,
          34,
          32.5,
          31,
          30.5,
          30.5,
          31.5,
          32,
          32.5,
          33,
          33,
          33,
          32.5,
          32,
          31.5,
          30,
          29.5,
          29
         ],
         "yaxis": "y5"
        }
       ],
       "layout": {
        "annotations": [
         {
          "font": {
           "size": 16
          },
          "showarrow": false,
          "text": "PM2.5 Time Series with Confidence Interval",
          "x": 0.185,
          "xanchor": "center",
          "xref": "paper",
          "y": 1,
          "yanchor": "bottom",
          "yref": "paper"
         },
         {
          "font": {
           "size": 16
          },
          "showarrow": false,
          "text": "PM10 vs PM2.5 Distribution",
          "x": 0.7550000000000001,
          "xanchor": "center",
          "xref": "paper",
          "y": 1,
          "yanchor": "bottom",
          "yref": "paper"
         },
         {
          "font": {
           "size": 16
          },
          "showarrow": false,
          "text": "Wind Speed vs Air Quality Index",
          "x": 0.185,
          "xanchor": "center",
          "xref": "paper",
          "y": 0.375,
          "yanchor": "bottom",
          "yref": "paper"
         },
         {
          "font": {
           "size": 16
          },
          "showarrow": false,
          "text": "Daily AQI Pattern",
          "x": 0.7550000000000001,
          "xanchor": "center",
          "xref": "paper",
          "y": 0.375,
          "yanchor": "bottom",
          "yref": "paper"
         }
        ],
        "autosize": true,
        "font": {
         "size": 12
        },
        "hovermode": "closest",
        "legend": {
         "bgcolor": "rgba(255, 255, 255, 0.8)",
         "x": 0.01,
         "xanchor": "left",
         "y": 0.99,
         "yanchor": "top"
        },
        "margin": {
         "b": 50,
         "l": 50,
         "r": 50,
         "t": 80
        },
        "modebar": {
         "add": [
          "zoom",
          "pan",
          "select",
          "lasso2d",
          "reset"
         ]
        },
        "paper_bgcolor": "white",
        "plot_bgcolor": "white",
        "showlegend": true,
        "template": {
         "data": {
          "bar": [
           {
            "error_x": {
             "color": "rgb(36,36,36)"
            },
            "error_y": {
             "color": "rgb(36,36,36)"
            },
            "marker": {
             "line": {
              "color": "white",
              "width": 0.5
             },
             "pattern": {
              "fillmode": "overlay",
              "size": 10,
              "solidity": 0.2
             }
            },
            "type": "bar"
           }
          ],
          "barpolar": [
           {
            "marker": {
             "line": {
              "color": "white",
              "width": 0.5
             },
             "pattern": {
              "fillmode": "overlay",
              "size": 10,
              "solidity": 0.2
             }
            },
            "type": "barpolar"
           }
          ],
          "carpet": [
           {
            "aaxis": {
             "endlinecolor": "rgb(36,36,36)",
             "gridcolor": "white",
             "linecolor": "white",
             "minorgridcolor": "white",
             "startlinecolor": "rgb(36,36,36)"
            },
            "baxis": {
             "endlinecolor": "rgb(36,36,36)",
             "gridcolor": "white",
             "linecolor": "white",
             "minorgridcolor": "white",
             "startlinecolor": "rgb(36,36,36)"
            },
            "type": "carpet"
           }
          ],
          "choropleth": [
           {
            "colorbar": {
             "outlinewidth": 1,
             "tickcolor": "rgb(36,36,36)",
             "ticks": "outside"
            },
            "type": "choropleth"
           }
          ],
          "contour": [
           {
            "colorbar": {
             "outlinewidth": 1,
             "tickcolor": "rgb(36,36,36)",
             "ticks": "outside"
            },
            "colorscale": [
             [
              0,
              "#440154"
             ],
             [
              0.1111111111111111,
              "#482878"
             ],
             [
              0.2222222222222222,
              "#3e4989"
             ],
             [
              0.3333333333333333,
              "#31688e"
             ],
             [
              0.4444444444444444,
              "#26828e"
             ],
             [
              0.5555555555555556,
              "#1f9e89"
             ],
             [
              0.6666666666666666,
              "#35b779"
             ],
             [
              0.7777777777777778,
              "#6ece58"
             ],
             [
              0.8888888888888888,
              "#b5de2b"
             ],
             [
              1,
              "#fde725"
             ]
            ],
            "type": "contour"
           }
          ],
          "contourcarpet": [
           {
            "colorbar": {
             "outlinewidth": 1,
             "tickcolor": "rgb(36,36,36)",
             "ticks": "outside"
            },
            "type": "contourcarpet"
           }
          ],
          "heatmap": [
           {
            "colorbar": {
             "outlinewidth": 1,
             "tickcolor": "rgb(36,36,36)",
             "ticks": "outside"
            },
            "colorscale": [
             [
              0,
              "#440154"
             ],
             [
              0.1111111111111111,
              "#482878"
             ],
             [
              0.2222222222222222,
              "#3e4989"
             ],
             [
              0.3333333333333333,
              "#31688e"
             ],
             [
              0.4444444444444444,
              "#26828e"
             ],
             [
              0.5555555555555556,
              "#1f9e89"
             ],
             [
              0.6666666666666666,
              "#35b779"
             ],
             [
              0.7777777777777778,
              "#6ece58"
             ],
             [
              0.8888888888888888,
              "#b5de2b"
             ],
             [
              1,
              "#fde725"
             ]
            ],
            "type": "heatmap"
           }
          ],
          "heatmapgl": [
           {
            "colorbar": {
             "outlinewidth": 1,
             "tickcolor": "rgb(36,36,36)",
             "ticks": "outside"
            },
            "colorscale": [
             [
              0,
              "#440154"
             ],
             [
              0.1111111111111111,
              "#482878"
             ],
             [
              0.2222222222222222,
              "#3e4989"
             ],
             [
              0.3333333333333333,
              "#31688e"
             ],
             [
              0.4444444444444444,
              "#26828e"
             ],
             [
              0.5555555555555556,
              "#1f9e89"
             ],
             [
              0.6666666666666666,
              "#35b779"
             ],
             [
              0.7777777777777778,
              "#6ece58"
             ],
             [
              0.8888888888888888,
              "#b5de2b"
             ],
             [
              1,
              "#fde725"
             ]
            ],
            "type": "heatmapgl"
           }
          ],
          "histogram": [
           {
            "marker": {
             "line": {
              "color": "white",
              "width": 0.6
             }
            },
            "type": "histogram"
           }
          ],
          "histogram2d": [
           {
            "colorbar": {
             "outlinewidth": 1,
             "tickcolor": "rgb(36,36,36)",
             "ticks": "outside"
            },
            "colorscale": [
             [
              0,
              "#440154"
             ],
             [
              0.1111111111111111,
              "#482878"
             ],
             [
              0.2222222222222222,
              "#3e4989"
             ],
             [
              0.3333333333333333,
              "#31688e"
             ],
             [
              0.4444444444444444,
              "#26828e"
             ],
             [
              0.5555555555555556,
              "#1f9e89"
             ],
             [
              0.6666666666666666,
              "#35b779"
             ],
             [
              0.7777777777777778,
              "#6ece58"
             ],
             [
              0.8888888888888888,
              "#b5de2b"
             ],
             [
              1,
              "#fde725"
             ]
            ],
            "type": "histogram2d"
           }
          ],
          "histogram2dcontour": [
           {
            "colorbar": {
             "outlinewidth": 1,
             "tickcolor": "rgb(36,36,36)",
             "ticks": "outside"
            },
            "colorscale": [
             [
              0,
              "#440154"
             ],
             [
              0.1111111111111111,
              "#482878"
             ],
             [
              0.2222222222222222,
              "#3e4989"
             ],
             [
              0.3333333333333333,
              "#31688e"
             ],
             [
              0.4444444444444444,
              "#26828e"
             ],
             [
              0.5555555555555556,
              "#1f9e89"
             ],
             [
              0.6666666666666666,
              "#35b779"
             ],
             [
              0.7777777777777778,
              "#6ece58"
             ],
             [
              0.8888888888888888,
              "#b5de2b"
             ],
             [
              1,
              "#fde725"
             ]
            ],
            "type": "histogram2dcontour"
           }
          ],
          "mesh3d": [
           {
            "colorbar": {
             "outlinewidth": 1,
             "tickcolor": "rgb(36,36,36)",
             "ticks": "outside"
            },
            "type": "mesh3d"
           }
          ],
          "parcoords": [
           {
            "line": {
             "colorbar": {
              "outlinewidth": 1,
              "tickcolor": "rgb(36,36,36)",
              "ticks": "outside"
             }
            },
            "type": "parcoords"
           }
          ],
          "pie": [
           {
            "automargin": true,
            "type": "pie"
           }
          ],
          "scatter": [
           {
            "fillpattern": {
             "fillmode": "overlay",
             "size": 10,
             "solidity": 0.2
            },
            "type": "scatter"
           }
          ],
          "scatter3d": [
           {
            "line": {
             "colorbar": {
              "outlinewidth": 1,
              "tickcolor": "rgb(36,36,36)",
              "ticks": "outside"
             }
            },
            "marker": {
             "colorbar": {
              "outlinewidth": 1,
              "tickcolor": "rgb(36,36,36)",
              "ticks": "outside"
             }
            },
            "type": "scatter3d"
           }
          ],
          "scattercarpet": [
           {
            "marker": {
             "colorbar": {
              "outlinewidth": 1,
              "tickcolor": "rgb(36,36,36)",
              "ticks": "outside"
             }
            },
            "type": "scattercarpet"
           }
          ],
          "scattergeo": [
           {
            "marker": {
             "colorbar": {
              "outlinewidth": 1,
              "tickcolor": "rgb(36,36,36)",
              "ticks": "outside"
             }
            },
            "type": "scattergeo"
           }
          ],
          "scattergl": [
           {
            "marker": {
             "colorbar": {
              "outlinewidth": 1,
              "tickcolor": "rgb(36,36,36)",
              "ticks": "outside"
             }
            },
            "type": "scattergl"
           }
          ],
          "scattermapbox": [
           {
            "marker": {
             "colorbar": {
              "outlinewidth": 1,
              "tickcolor": "rgb(36,36,36)",
              "ticks": "outside"
             }
            },
            "type": "scattermapbox"
           }
          ],
          "scatterpolar": [
           {
            "marker": {
             "colorbar": {
              "outlinewidth": 1,
              "tickcolor": "rgb(36,36,36)",
              "ticks": "outside"
             }
            },
            "type": "scatterpolar"
           }
          ],
          "scatterpolargl": [
           {
            "marker": {
             "colorbar": {
              "outlinewidth": 1,
              "tickcolor": "rgb(36,36,36)",
              "ticks": "outside"
             }
            },
            "type": "scatterpolargl"
           }
          ],
          "scatterternary": [
           {
            "marker": {
             "colorbar": {
              "outlinewidth": 1,
              "tickcolor": "rgb(36,36,36)",
              "ticks": "outside"
             }
            },
            "type": "scatterternary"
           }
          ],
          "surface": [
           {
            "colorbar": {
             "outlinewidth": 1,
             "tickcolor": "rgb(36,36,36)",
             "ticks": "outside"
            },
            "colorscale": [
             [
              0,
              "#440154"
             ],
             [
              0.1111111111111111,
              "#482878"
             ],
             [
              0.2222222222222222,
              "#3e4989"
             ],
             [
              0.3333333333333333,
              "#31688e"
             ],
             [
              0.4444444444444444,
              "#26828e"
             ],
             [
              0.5555555555555556,
              "#1f9e89"
             ],
             [
              0.6666666666666666,
              "#35b779"
             ],
             [
              0.7777777777777778,
              "#6ece58"
             ],
             [
              0.8888888888888888,
              "#b5de2b"
             ],
             [
              1,
              "#fde725"
             ]
            ],
            "type": "surface"
           }
          ],
          "table": [
           {
            "cells": {
             "fill": {
              "color": "rgb(237,237,237)"
             },
             "line": {
              "color": "white"
             }
            },
            "header": {
             "fill": {
              "color": "rgb(217,217,217)"
             },
             "line": {
              "color": "white"
             }
            },
            "type": "table"
           }
          ]
         },
         "layout": {
          "annotationdefaults": {
           "arrowhead": 0,
           "arrowwidth": 1
          },
          "autotypenumbers": "strict",
          "coloraxis": {
           "colorbar": {
            "outlinewidth": 1,
            "tickcolor": "rgb(36,36,36)",
            "ticks": "outside"
           }
          },
          "colorscale": {
           "diverging": [
            [
             0,
             "rgb(103,0,31)"
            ],
            [
             0.1,
             "rgb(178,24,43)"
            ],
            [
             0.2,
             "rgb(214,96,77)"
            ],
            [
             0.3,
             "rgb(244,165,130)"
            ],
            [
             0.4,
             "rgb(253,219,199)"
            ],
            [
             0.5,
             "rgb(247,247,247)"
            ],
            [
             0.6,
             "rgb(209,229,240)"
            ],
            [
             0.7,
             "rgb(146,197,222)"
            ],
            [
             0.8,
             "rgb(67,147,195)"
            ],
            [
             0.9,
             "rgb(33,102,172)"
            ],
            [
             1,
             "rgb(5,48,97)"
            ]
           ],
           "sequential": [
            [
             0,
             "#440154"
            ],
            [
             0.1111111111111111,
             "#482878"
            ],
            [
             0.2222222222222222,
             "#3e4989"
            ],
            [
             0.3333333333333333,
             "#31688e"
            ],
            [
             0.4444444444444444,
             "#26828e"
            ],
            [
             0.5555555555555556,
             "#1f9e89"
            ],
            [
             0.6666666666666666,
             "#35b779"
            ],
            [
             0.7777777777777778,
             "#6ece58"
            ],
            [
             0.8888888888888888,
             "#b5de2b"
            ],
            [
             1,
             "#fde725"
            ]
           ],
           "sequentialminus": [
            [
             0,
             "#440154"
            ],
            [
             0.1111111111111111,
             "#482878"
            ],
            [
             0.2222222222222222,
             "#3e4989"
            ],
            [
             0.3333333333333333,
             "#31688e"
            ],
            [
             0.4444444444444444,
             "#26828e"
            ],
            [
             0.5555555555555556,
             "#1f9e89"
            ],
            [
             0.6666666666666666,
             "#35b779"
            ],
            [
             0.7777777777777778,
             "#6ece58"
            ],
            [
             0.8888888888888888,
             "#b5de2b"
            ],
            [
             1,
             "#fde725"
            ]
           ]
          },
          "colorway": [
           "#1F77B4",
           "#FF7F0E",
           "#2CA02C",
           "#D62728",
           "#9467BD",
           "#8C564B",
           "#E377C2",
           "#7F7F7F",
           "#BCBD22",
           "#17BECF"
          ],
          "font": {
           "color": "rgb(36,36,36)"
          },
          "geo": {
           "bgcolor": "white",
           "lakecolor": "white",
           "landcolor": "white",
           "showlakes": true,
           "showland": true,
           "subunitcolor": "white"
          },
          "hoverlabel": {
           "align": "left"
          },
          "hovermode": "closest",
          "mapbox": {
           "style": "light"
          },
          "paper_bgcolor": "white",
          "plot_bgcolor": "white",
          "polar": {
           "angularaxis": {
            "gridcolor": "rgb(232,232,232)",
            "linecolor": "rgb(36,36,36)",
            "showgrid": false,
            "showline": true,
            "ticks": "outside"
           },
           "bgcolor": "white",
           "radialaxis": {
            "gridcolor": "rgb(232,232,232)",
            "linecolor": "rgb(36,36,36)",
            "showgrid": false,
            "showline": true,
            "ticks": "outside"
           }
          },
          "scene": {
           "xaxis": {
            "backgroundcolor": "white",
            "gridcolor": "rgb(232,232,232)",
            "gridwidth": 2,
            "linecolor": "rgb(36,36,36)",
            "showbackground": true,
            "showgrid": false,
            "showline": true,
            "ticks": "outside",
            "zeroline": false,
            "zerolinecolor": "rgb(36,36,36)"
           },
           "yaxis": {
            "backgroundcolor": "white",
            "gridcolor": "rgb(232,232,232)",
            "gridwidth": 2,
            "linecolor": "rgb(36,36,36)",
            "showbackground": true,
            "showgrid": false,
            "showline": true,
            "ticks": "outside",
            "zeroline": false,
            "zerolinecolor": "rgb(36,36,36)"
           },
           "zaxis": {
            "backgroundcolor": "white",
            "gridcolor": "rgb(232,232,232)",
            "gridwidth": 2,
            "linecolor": "rgb(36,36,36)",
            "showbackground": true,
            "showgrid": false,
            "showline": true,
            "ticks": "outside",
            "zeroline": false,
            "zerolinecolor": "rgb(36,36,36)"
           }
          },
          "shapedefaults": {
           "fillcolor": "black",
           "line": {
            "width": 0
           },
           "opacity": 0.3
          },
          "ternary": {
           "aaxis": {
            "gridcolor": "rgb(232,232,232)",
            "linecolor": "rgb(36,36,36)",
            "showgrid": false,
            "showline": true,
            "ticks": "outside"
           },
           "baxis": {
            "gridcolor": "rgb(232,232,232)",
            "linecolor": "rgb(36,36,36)",
            "showgrid": false,
            "showline": true,
            "ticks": "outside"
           },
           "bgcolor": "white",
           "caxis": {
            "gridcolor": "rgb(232,232,232)",
            "linecolor": "rgb(36,36,36)",
            "showgrid": false,
            "showline": true,
            "ticks": "outside"
           }
          },
          "title": {
           "x": 0.05
          },
          "xaxis": {
           "automargin": true,
           "gridcolor": "rgb(232,232,232)",
           "linecolor": "rgb(36,36,36)",
           "showgrid": false,
           "showline": true,
           "ticks": "outside",
           "title": {
            "standoff": 15
           },
           "zeroline": false,
           "zerolinecolor": "rgb(36,36,36)"
          },
          "yaxis": {
           "automargin": true,
           "gridcolor": "rgb(232,232,232)",
           "linecolor": "rgb(36,36,36)",
           "showgrid": false,
           "showline": true,
           "ticks": "outside",
           "title": {
            "standoff": 15
           },
           "zeroline": false,
           "zerolinecolor": "rgb(36,36,36)"
          }
         }
        },
        "title": {
         "font": {
          "size": 16
         },
         "text": "Multi-Parameter Air Quality Analysis Dashboard",
         "x": 0.5,
         "xanchor": "center"
        },
        "xaxis": {
         "anchor": "y",
         "autorange": true,
         "domain": [
          0,
          0.37
         ],
         "gridcolor": "#E5E5E5",
         "gridwidth": 1,
         "range": [
          "2024-01-21",
          "2025-02-08 04:00"
         ],
         "showgrid": true,
         "title": {
          "text": "Time"
         },
         "type": "date",
         "zeroline": true,
         "zerolinecolor": "#808080",
         "zerolinewidth": 1
        },
        "xaxis2": {
         "anchor": "y3",
         "autorange": true,
         "domain": [
          0.5700000000000001,
          0.9400000000000001
         ],
         "gridcolor": "#E5E5E5",
         "gridwidth": 1,
         "range": [
          -0.5,
          1.5
         ],
         "showgrid": true,
         "type": "category",
         "zeroline": true,
         "zerolinecolor": "#808080",
         "zerolinewidth": 1
        },
        "xaxis3": {
         "anchor": "y4",
         "autorange": true,
         "domain": [
          0,
          0.37
         ],
         "gridcolor": "#E5E5E5",
         "gridwidth": 1,
         "range": [
          -0.6017308189098425,
          40.00173081890984
         ],
         "showgrid": true,
         "title": {
          "text": "Wind Speed (km/h)"
         },
         "type": "linear",
         "zeroline": true,
         "zerolinecolor": "#808080",
         "zerolinewidth": 1
        },
        "xaxis4": {
         "anchor": "y5",
         "autorange": true,
         "domain": [
          0.5700000000000001,
          0.9400000000000001
         ],
         "gridcolor": "#E5E5E5",
         "gridwidth": 1,
         "range": [
          -1.5847587930040363,
          24.584758793004035
         ],
         "showgrid": true,
         "title": {
          "text": "Hour of Day"
         },
         "type": "linear",
         "zeroline": true,
         "zerolinecolor": "#808080",
         "zerolinewidth": 1
        },
        "yaxis": {
         "anchor": "x",
         "autorange": true,
         "domain": [
          0.625,
          1
         ],
         "gridcolor": "#E5E5E5",
         "gridwidth": 1,
         "range": [
          -1.4135246573407,
          21.9135246573407
         ],
         "showgrid": true,
         "title": {
          "text": "Concentration (μg/m³)"
         },
         "type": "linear",
         "zeroline": true,
         "zerolinecolor": "#808080",
         "zerolinewidth": 1
        },
        "yaxis2": {
         "anchor": "x",
         "gridcolor": "#E5E5E5",
         "gridwidth": 1,
         "overlaying": "y",
         "showgrid": true,
         "side": "right",
         "title": {
          "text": "Concentration (μg/m³)"
         },
         "zeroline": true,
         "zerolinecolor": "#808080",
         "zerolinewidth": 1
        },
        "yaxis3": {
         "anchor": "x2",
         "autorange": true,
         "domain": [
          0.625,
          1
         ],
         "gridcolor": "#E5E5E5",
         "gridwidth": 1,
         "range": [
          4.627777777777777,
          24.072222222222223
         ],
         "showgrid": true,
         "title": {
          "text": "Concentration (μg/m³)"
         },
         "type": "linear",
         "zeroline": true,
         "zerolinecolor": "#808080",
         "zerolinewidth": 1
        },
        "yaxis4": {
         "anchor": "x3",
         "autorange": true,
         "domain": [
          0,
          0.375
         ],
         "gridcolor": "#E5E5E5",
         "gridwidth": 1,
         "range": [
          27.345986089826713,
          36.65401391017329
         ],
         "showgrid": true,
         "title": {
          "text": "European AQI"
         },
         "type": "linear",
         "zeroline": true,
         "zerolinecolor": "#808080",
         "zerolinewidth": 1
        },
        "yaxis5": {
         "anchor": "x4",
         "autorange": true,
         "domain": [
          0,
          0.375
         ],
         "gridcolor": "#E5E5E5",
         "gridwidth": 1,
         "range": [
          27.975183502271932,
          36.02481649772807
         ],
         "showgrid": true,
         "title": {
          "text": "Average AQI"
         },
         "type": "linear",
         "zeroline": true,
         "zerolinecolor": "#808080",
         "zerolinewidth": 1
        }
       }
      },
      "image/png": "[encoded data removed]",
      "text/html": [
       "<div>                            <div id=\"eb7d9b02-ddc2-4f2f-af95-8ff8bff386d5\" class=\"plotly-graph-div\" style=\"height:800px; width:100%;\"></div>            <script type=\"text/javascript\">                require([\"plotly\"], function(Plotly) {                    window.PLOTLYENV=window.PLOTLYENV || {};                                    if (document.getElementById(\"eb7d9b02-ddc2-4f2f-af95-8ff8bff386d5\")) {                    Plotly.newPlot(                        \"eb7d9b02-ddc2-4f2f-af95-8ff8bff386d5\",                        [{\"line\":{\"color\":\"rgb(31, 119, 180)\"},\"name\":\"PM2.5\",\"x\":[\"2024-01-21T00:00:00\",\"2024-01-21T01:00:00\",\"2024-01-21T02:00:00\",\"2024-01-21T03:00:00\",\"2024-01-21T04:00:00\",\"2024-01-21T05:00:00\",\"2024-01-21T06:00:00\",\"2024-01-21T07:00:00\",\"2024-01-21T08:00:00\",\"2024-01-21T09:00:00\",\"2024-01-21T10:00:00\",\"2024-01-21T11:00:00\",\"2024-01-21T12:00:00\",\"2024-01-21T13:00:00\",\"2024-01-21T14:00:00\",\"2024-01-21T15:00:00\",\"2024-01-21T16:00:00\",\"2024-01-21T17:00:00\",\"2024-01-21T18:00:00\",\"2024-01-21T19:00:00\",\"2024-01-21T20:00:00\",\"2024-01-21T21:00:00\",\"2024-01-21T22:00:00\",\"2024-01-21T23:00:00\",\"2024-01-22T00:00:00\",\"2024-01-22T01:00:00\",\"2024-01-22T02:00:00\",\"2024-01-22T03:00:00\",\"2024-01-22T04:00:00\",\"2024-01-22T05:00:00\",\"2024-01-22T06:00:00\",\"2024-01-22T07:00:00\",\"2024-01-22T08:00:00\",\"2024-01-22T09:00:00\",\"2024-01-22T10:00:00\",\"2024-01-22T11:00:00\",\"2024-01-22T12:00:00\",\"2024-01-22T13:00:00\",\"2024-01-22T14:00:00\",\"2024-01-22T15:00:00\",\"2024-01-22T16:00:00\",\"2024-01-22T17:00:00\",\"2024-01-22T18:00:00\",\"2024-01-22T19:00:00\",\"2024-01-22T20:00:00\",\"2024-01-22T21:00:00\",\"2024-01-22T22:00:00\",\"2024-01-22T23:00:00\",\"2024-01-23T00:00:00\",\"2024-01-23T01:00:00\",\"2024-01-23T02:00:00\",\"2024-01-23T03:00:00\",\"2024-01-23T04:00:00\",\"2024-01-23T05:00:00\",\"2024-01-23T06:00:00\",\"2024-01-23T07:00:00\",\"2024-01-23T08:00:00\",\"2024-01-23T09:00:00\",\"2024-01-23T10:00:00\",\"2024-01-23T11:00:00\",\"2024-01-23T12:00:00\",\"2024-01-23T13:00:00\",\"2024-01-23T14:00:00\",\"2024-01-23T15:00:00\",\"2024-01-23T16:00:00\",\"2024-01-23T17:00:00\",\"2024-01-23T18:00:00\",\"2024-01-23T19:00:00\",\"2024-01-23T20:00:00\",\"2024-01-23T21:00:00\",\"2024-01-23T22:00:00\",\"2024-01-23T23:00:00\",\"2025-02-06T05:00:00\",\"2025-02-06T06:00:00\",\"2025-02-06T07:00:00\",\"2025-02-06T08:00:00\",\"2025-02-06T09:00:00\",\"2025-02-06T10:00:00\",\"2025-02-06T11:00:00\",\"2025-02-06T12:00:00\",\"2025-02-06T13:00:00\",\"2025-02-06T14:00:00\",\"2025-02-06T15:00:00\",\"2025-02-06T16:00:00\",\"2025-02-06T17:00:00\",\"2025-02-06T18:00:00\",\"2025-02-06T19:00:00\",\"2025-02-06T20:00:00\",\"2025-02-06T21:00:00\",\"2025-02-06T22:00:00\",\"2025-02-06T23:00:00\",\"2025-02-07T00:00:00\",\"2025-02-07T01:00:00\",\"2025-02-07T02:00:00\",\"2025-02-07T03:00:00\",\"2025-02-07T04:00:00\",\"2025-02-07T05:00:00\",\"2025-02-07T06:00:00\",\"2025-02-07T07:00:00\",\"2025-02-07T08:00:00\",\"2025-02-07T09:00:00\",\"2025-02-07T10:00:00\",\"2025-02-07T11:00:00\",\"2025-02-07T12:00:00\",\"2025-02-07T13:00:00\",\"2025-02-07T14:00:00\",\"2025-02-07T15:00:00\",\"2025-02-07T16:00:00\",\"2025-02-07T17:00:00\",\"2025-02-07T18:00:00\",\"2025-02-07T19:00:00\",\"2025-02-07T20:00:00\",\"2025-02-07T21:00:00\",\"2025-02-07T22:00:00\",\"2025-02-07T23:00:00\",\"2025-02-08T00:00:00\",\"2025-02-08T01:00:00\",\"2025-02-08T02:00:00\",\"2025-02-08T03:00:00\",\"2025-02-08T04:00:00\"],\"y\":[null,null,null,null,null,null,null,null,null,null,null,null,null,null,null,null,null,null,null,null,null,null,null,null,null,null,null,null,null,null,null,null,null,null,null,null,null,null,null,null,null,null,null,null,null,null,null,null,null,null,null,null,null,null,null,null,null,null,null,null,null,null,null,null,null,null,null,null,null,null,null,null,6.9,6.5,5.9,6.1,6.7,6.8,6.4,6.5,5.6,5.6,5.8,6.1,6.3,6.5,6.7,7.1,8.1,11.5,12.2,12.0,12.7,13.1,13.2,13.2,13.2,13.7,14.9,14.8,14.9,14.1,14.0,12.3,9.9,10.0,11.3,12.0,11.4,10.2,9.9,9.8,9.6,9.9,10.2,9.4,9.2,8.8,8.4,7.4],\"type\":\"scatter\",\"xaxis\":\"x\",\"yaxis\":\"y\"},{\"line\":{\"color\":\"rgba(31, 119, 180, 0.2)\"},\"mode\":\"lines\",\"showlegend\":false,\"x\":[\"2024-01-21T00:00:00\",\"2024-01-21T01:00:00\",\"2024-01-21T02:00:00\",\"2024-01-21T03:00:00\",\"2024-01-21T04:00:00\",\"2024-01-21T05:00:00\",\"2024-01-21T06:00:00\",\"2024-01-21T07:00:00\",\"2024-01-21T08:00:00\",\"2024-01-21T09:00:00\",\"2024-01-21T10:00:00\",\"2024-01-21T11:00:00\",\"2024-01-21T12:00:00\",\"2024-01-21T13:00:00\",\"2024-01-21T14:00:00\",\"2024-01-21T15:00:00\",\"2024-01-21T16:00:00\",\"2024-01-21T17:00:00\",\"2024-01-21T18:00:00\",\"2024-01-21T19:00:00\",\"2024-01-21T20:00:00\",\"2024-01-21T21:00:00\",\"2024-01-21T22:00:00\",\"2024-01-21T23:00:00\",\"2024-01-22T00:00:00\",\"2024-01-22T01:00:00\",\"2024-01-22T02:00:00\",\"2024-01-22T03:00:00\",\"2024-01-22T04:00:00\",\"2024-01-22T05:00:00\",\"2024-01-22T06:00:00\",\"2024-01-22T07:00:00\",\"2024-01-22T08:00:00\",\"2024-01-22T09:00:00\",\"2024-01-22T10:00:00\",\"2024-01-22T11:00:00\",\"2024-01-22T12:00:00\",\"2024-01-22T13:00:00\",\"2024-01-22T14:00:00\",\"2024-01-22T15:00:00\",\"2024-01-22T16:00:00\",\"2024-01-22T17:00:00\",\"2024-01-22T18:00:00\",\"2024-01-22T19:00:00\",\"2024-01-22T20:00:00\",\"2024-01-22T21:00:00\",\"2024-01-22T22:00:00\",\"2024-01-22T23:00:00\",\"2024-01-23T00:00:00\",\"2024-01-23T01:00:00\",\"2024-01-23T02:00:00\",\"2024-01-23T03:00:00\",\"2024-01-23T04:00:00\",\"2024-01-23T05:00:00\",\"2024-01-23T06:00:00\",\"2024-01-23T07:00:00\",\"2024-01-23T08:00:00\",\"2024-01-23T09:00:00\",\"2024-01-23T10:00:00\",\"2024-01-23T11:00:00\",\"2024-01-23T12:00:00\",\"2024-01-23T13:00:00\",\"2024-01-23T14:00:00\",\"2024-01-23T15:00:00\",\"2024-01-23T16:00:00\",\"2024-01-23T17:00:00\",\"2024-01-23T18:00:00\",\"2024-01-23T19:00:00\",\"2024-01-23T20:00:00\",\"2024-01-23T21:00:00\",\"2024-01-23T22:00:00\",\"2024-01-23T23:00:00\",\"2025-02-06T05:00:00\",\"2025-02-06T06:00:00\",\"2025-02-06T07:00:00\",\"2025-02-06T08:00:00\",\"2025-02-06T09:00:00\",\"2025-02-06T10:00:00\",\"2025-02-06T11:00:00\",\"2025-02-06T12:00:00\",\"2025-02-06T13:00:00\",\"2025-02-06T14:00:00\",\"2025-02-06T15:00:00\",\"2025-02-06T16:00:00\",\"2025-02-06T17:00:00\",\"2025-02-06T18:00:00\",\"2025-02-06T19:00:00\",\"2025-02-06T20:00:00\",\"2025-02-06T21:00:00\",\"2025-02-06T22:00:00\",\"2025-02-06T23:00:00\",\"2025-02-07T00:00:00\",\"2025-02-07T01:00:00\",\"2025-02-07T02:00:00\",\"2025-02-07T03:00:00\",\"2025-02-07T04:00:00\",\"2025-02-07T05:00:00\",\"2025-02-07T06:00:00\",\"2025-02-07T07:00:00\",\"2025-02-07T08:00:00\",\"2025-02-07T09:00:00\",\"2025-02-07T10:00:00\",\"2025-02-07T11:00:00\",\"2025-02-07T12:00:00\",\"2025-02-07T13:00:00\",\"2025-02-07T14:00:00\",\"2025-02-07T15:00:00\",\"2025-02-07T16:00:00\",\"2025-02-07T17:00:00\",\"2025-02-07T18:00:00\",\"2025-02-07T19:00:00\",\"2025-02-07T20:00:00\",\"2025-02-07T21:00:00\",\"2025-02-07T22:00:00\",\"2025-02-07T23:00:00\",\"2025-02-08T00:00:00\",\"2025-02-08T01:00:00\",\"2025-02-08T02:00:00\",\"2025-02-08T03:00:00\",\"2025-02-08T04:00:00\"],\"y\":[null,null,null,null,null,null,null,null,null,null,null,null,null,null,null,null,null,null,null,null,null,null,null,null,null,null,null,null,null,null,null,null,null,null,null,null,null,null,null,null,null,null,null,null,null,null,null,null,null,null,null,null,null,null,null,null,null,null,null,null,null,null,null,null,null,null,null,null,null,null,null,null,12.74717219160663,12.34717219160663,11.74717219160663,11.94717219160663,12.54717219160663,12.647172191606629,12.24717219160663,12.34717219160663,11.44717219160663,11.44717219160663,11.647172191606629,11.94717219160663,12.147172191606629,12.34717219160663,12.54717219160663,12.94717219160663,13.94717219160663,17.34717219160663,18.047172191606627,17.84717219160663,18.547172191606627,18.94717219160663,19.047172191606627,19.047172191606627,19.047172191606627,19.547172191606627,20.74717219160663,20.64717219160663,20.74717219160663,19.94717219160663,19.84717219160663,18.14717219160663,15.74717219160663,15.84717219160663,17.14717219160663,17.84717219160663,17.24717219160663,16.047172191606627,15.74717219160663,15.64717219160663,15.44717219160663,15.74717219160663,16.047172191606627,15.24717219160663,15.047172191606629,14.64717219160663,14.24717219160663,13.24717219160663],\"type\":\"scatter\",\"xaxis\":\"x\",\"yaxis\":\"y\"},{\"fill\":\"tonexty\",\"line\":{\"color\":\"rgba(31, 119, 180, 0.2)\"},\"mode\":\"lines\",\"name\":\"95% CI\",\"x\":[\"2024-01-21T00:00:00\",\"2024-01-21T01:00:00\",\"2024-01-21T02:00:00\",\"2024-01-21T03:00:00\",\"2024-01-21T04:00:00\",\"2024-01-21T05:00:00\",\"2024-01-21T06:00:00\",\"2024-01-21T07:00:00\",\"2024-01-21T08:00:00\",\"2024-01-21T09:00:00\",\"2024-01-21T10:00:00\",\"2024-01-21T11:00:00\",\"2024-01-21T12:00:00\",\"2024-01-21T13:00:00\",\"2024-01-21T14:00:00\",\"2024-01-21T15:00:00\",\"2024-01-21T16:00:00\",\"2024-01-21T17:00:00\",\"2024-01-21T18:00:00\",\"2024-01-21T19:00:00\",\"2024-01-21T20:00:00\",\"2024-01-21T21:00:00\",\"2024-01-21T22:00:00\",\"2024-01-21T23:00:00\",\"2024-01-22T00:00:00\",\"2024-01-22T01:00:00\",\"2024-01-22T02:00:00\",\"2024-01-22T03:00:00\",\"2024-01-22T04:00:00\",\"2024-01-22T05:00:00\",\"2024-01-22T06:00:00\",\"2024-01-22T07:00:00\",\"2024-01-22T08:00:00\",\"2024-01-22T09:00:00\",\"2024-01-22T10:00:00\",\"2024-01-22T11:00:00\",\"2024-01-22T12:00:00\",\"2024-01-22T13:00:00\",\"2024-01-22T14:00:00\",\"2024-01-22T15:00:00\",\"2024-01-22T16:00:00\",\"2024-01-22T17:00:00\",\"2024-01-22T18:00:00\",\"2024-01-22T19:00:00\",\"2024-01-22T20:00:00\",\"2024-01-22T21:00:00\",\"2024-01-22T22:00:00\",\"2024-01-22T23:00:00\",\"2024-01-23T00:00:00\",\"2024-01-23T01:00:00\",\"2024-01-23T02:00:00\",\"2024-01-23T03:00:00\",\"2024-01-23T04:00:00\",\"2024-01-23T05:00:00\",\"2024-01-23T06:00:00\",\"2024-01-23T07:00:00\",\"2024-01-23T08:00:00\",\"2024-01-23T09:00:00\",\"2024-01-23T10:00:00\",\"2024-01-23T11:00:00\",\"2024-01-23T12:00:00\",\"2024-01-23T13:00:00\",\"2024-01-23T14:00:00\",\"2024-01-23T15:00:00\",\"2024-01-23T16:00:00\",\"2024-01-23T17:00:00\",\"2024-01-23T18:00:00\",\"2024-01-23T19:00:00\",\"2024-01-23T20:00:00\",\"2024-01-23T21:00:00\",\"2024-01-23T22:00:00\",\"2024-01-23T23:00:00\",\"2025-02-06T05:00:00\",\"2025-02-06T06:00:00\",\"2025-02-06T07:00:00\",\"2025-02-06T08:00:00\",\"2025-02-06T09:00:00\",\"2025-02-06T10:00:00\",\"2025-02-06T11:00:00\",\"2025-02-06T12:00:00\",\"2025-02-06T13:00:00\",\"2025-02-06T14:00:00\",\"2025-02-06T15:00:00\",\"2025-02-06T16:00:00\",\"2025-02-06T17:00:00\",\"2025-02-06T18:00:00\",\"2025-02-06T19:00:00\",\"2025-02-06T20:00:00\",\"2025-02-06T21:00:00\",\"2025-02-06T22:00:00\",\"2025-02-06T23:00:00\",\"2025-02-07T00:00:00\",\"2025-02-07T01:00:00\",\"2025-02-07T02:00:00\",\"2025-02-07T03:00:00\",\"2025-02-07T04:00:00\",\"2025-02-07T05:00:00\",\"2025-02-07T06:00:00\",\"2025-02-07T07:00:00\",\"2025-02-07T08:00:00\",\"2025-02-07T09:00:00\",\"2025-02-07T10:00:00\",\"2025-02-07T11:00:00\",\"2025-02-07T12:00:00\",\"2025-02-07T13:00:00\",\"2025-02-07T14:00:00\",\"2025-02-07T15:00:00\",\"2025-02-07T16:00:00\",\"2025-02-07T17:00:00\",\"2025-02-07T18:00:00\",\"2025-02-07T19:00:00\",\"2025-02-07T20:00:00\",\"2025-02-07T21:00:00\",\"2025-02-07T22:00:00\",\"2025-02-07T23:00:00\",\"2025-02-08T00:00:00\",\"2025-02-08T01:00:00\",\"2025-02-08T02:00:00\",\"2025-02-08T03:00:00\",\"2025-02-08T04:00:00\"],\"y\":[null,null,null,null,null,null,null,null,null,null,null,null,null,null,null,null,null,null,null,null,null,null,null,null,null,null,null,null,null,null,null,null,null,null,null,null,null,null,null,null,null,null,null,null,null,null,null,null,null,null,null,null,null,null,null,null,null,null,null,null,null,null,null,null,null,null,null,null,null,null,null,null,1.0528278083933706,0.6528278083933703,0.052827808393370645,0.25282780839336993,0.8528278083933705,0.9528278083933701,0.5528278083933706,0.6528278083933703,-0.24717219160663007,-0.24717219160663007,-0.04717219160662989,0.25282780839336993,0.4528278083933701,0.6528278083933703,0.8528278083933705,1.25282780839337,2.25282780839337,5.65282780839337,6.35282780839337,6.15282780839337,6.85282780839337,7.25282780839337,7.35282780839337,7.35282780839337,7.35282780839337,7.85282780839337,9.05282780839337,8.952827808393371,9.05282780839337,8.25282780839337,8.15282780839337,6.452827808393371,4.052827808393371,4.15282780839337,5.452827808393371,6.15282780839337,5.552827808393371,4.35282780839337,4.052827808393371,3.952827808393371,3.75282780839337,4.052827808393371,4.35282780839337,3.5528278083933706,3.3528278083933696,2.952827808393371,2.5528278083933706,1.5528278083933706],\"type\":\"scatter\",\"xaxis\":\"x\",\"yaxis\":\"y\"},{\"boxpoints\":\"outliers\",\"name\":\"PM2.5\",\"y\":[null,null,null,null,null,null,null,null,null,null,null,null,null,null,null,null,null,null,null,null,null,null,null,null,null,null,null,null,null,null,null,null,null,null,null,null,null,null,null,null,null,null,null,null,null,null,null,null,null,null,null,null,null,null,null,null,null,null,null,null,null,null,null,null,null,null,null,null,null,null,null,null,6.9,6.5,5.9,6.1,6.7,6.8,6.4,6.5,5.6,5.6,5.8,6.1,6.3,6.5,6.7,7.1,8.1,11.5,12.2,12.0,12.7,13.1,13.2,13.2,13.2,13.7,14.9,14.8,14.9,14.1,14.0,12.3,9.9,10.0,11.3,12.0,11.4,10.2,9.9,9.8,9.6,9.9,10.2,9.4,9.2,8.8,8.4,7.4],\"type\":\"box\",\"xaxis\":\"x2\",\"yaxis\":\"y3\"},{\"boxpoints\":\"outliers\",\"name\":\"PM10\",\"y\":[null,null,null,null,null,null,null,null,null,null,null,null,null,null,null,null,null,null,null,null,null,null,null,null,null,null,null,null,null,null,null,null,null,null,null,null,null,null,null,null,null,null,null,null,null,null,null,null,null,null,null,null,null,null,null,null,null,null,null,null,null,null,null,null,null,null,null,null,null,null,null,null,9.1,8.6,7.7,7.7,8.1,8.1,7.7,8.5,7.3,7.6,8.1,8.8,9.1,9.3,9.5,9.7,10.6,14.1,15.3,15.8,17.5,18.8,19.3,19.2,19.1,20.7,23.1,21.4,20.8,19.3,19.7,17.3,13.6,13.2,14.8,15.9,15.7,14.4,14.3,14.4,14.2,14.5,14.6,13.6,13.3,12.9,12.3,10.9],\"type\":\"box\",\"xaxis\":\"x2\",\"yaxis\":\"y3\"},{\"marker\":{\"color\":[null,null,null,null,null,null,null,null,null,null,null,null,null,null,null,null,null,null,null,null,null,null,null,null,null,null,null,null,null,null,null,null,null,null,null,null,null,null,null,null,null,null,null,null,null,null,null,null,null,null,null,null,null,null,null,null,null,null,null,null,null,null,null,null,null,null,null,null,null,null,null,null,6.9,6.5,5.9,6.1,6.7,6.8,6.4,6.5,5.6,5.6,5.8,6.1,6.3,6.5,6.7,7.1,8.1,11.5,12.2,12.0,12.7,13.1,13.2,13.2,13.2,13.7,14.9,14.8,14.9,14.1,14.0,12.3,9.9,10.0,11.3,12.0,11.4,10.2,9.9,9.8,9.6,9.9,10.2,9.4,9.2,8.8,8.4,7.4],\"colorbar\":{\"title\":{\"text\":\"PM2.5\"}},\"colorscale\":[[0.0,\"#440154\"],[0.1111111111111111,\"#482878\"],[0.2222222222222222,\"#3e4989\"],[0.3333333333333333,\"#31688e\"],[0.4444444444444444,\"#26828e\"],[0.5555555555555556,\"#1f9e89\"],[0.6666666666666666,\"#35b779\"],[0.7777777777777778,\"#6ece58\"],[0.8888888888888888,\"#b5de2b\"],[1.0,\"#fde725\"]],\"showscale\":true,\"size\":8},\"mode\":\"markers\",\"name\":\"AQI vs Wind\",\"x\":[16.6,14.3,13.1,12.2,16.6,29.0,34.0,37.4,35.4,34.1,31.8,30.0,28.5,30.0,29.5,27.8,30.3,29.3,23.2,20.6,18.7,17.3,17.6,14.4,15.8,12.4,9.5,9.7,7.4,2.0,6.8,7.4,7.0,7.9,3.9,11.4,14.7,15.0,20.2,20.1,26.7,26.6,25.8,26.9,24.3,23.0,21.6,21.8,26.2,30.8,32.8,31.6,28.9,28.4,27.5,25.0,18.3,14.0,4.2,11.2,18.7,17.6,18.0,13.5,12.9,23.5,25.0,22.4,22.6,18.4,19.4,17.6,null,null,null,null,null,null,null,null,null,null,null,null,null,null,null,null,null,null,null,null,null,null,null,null,null,null,null,null,null,null,null,null,null,null,null,null,null,null,null,null,null,null,null,null,null,null,null,null],\"y\":[null,null,null,null,null,null,null,null,null,null,null,null,null,null,null,null,null,null,null,null,null,null,null,null,null,null,null,null,null,null,null,null,null,null,null,null,null,null,null,null,null,null,null,null,null,null,null,null,null,null,null,null,null,null,null,null,null,null,null,null,null,null,null,null,null,null,null,null,null,null,null,null,36.0,35.0,34.0,33.0,32.0,31.0,31.0,33.0,33.0,34.0,34.0,34.0,33.0,32.0,31.0,30.0,28.0,28.0,28.0,28.0,30.0,31.0,33.0,34.0,35.0,35.0,34.0,32.0,30.0,30.0,30.0,30.0,31.0,31.0,32.0,32.0,33.0,33.0,33.0,33.0,32.0,31.0,30.0,29.0,29.0,31.0,32.0,33.0],\"type\":\"scatter\",\"xaxis\":\"x3\",\"yaxis\":\"y4\"},{\"line\":{\"color\":\"rgb(214, 39, 40)\"},\"mode\":\"lines+markers\",\"name\":\"Avg AQI by Hour\",\"x\":[0,1,2,3,4,5,6,7,8,9,10,11,12,13,14,15,16,17,18,19,20,21,22,23],\"y\":[28.5,29.5,31.0,32.5,33.5,35.5,35.0,34.0,32.5,31.0,30.5,30.5,31.5,32.0,32.5,33.0,33.0,33.0,32.5,32.0,31.5,30.0,29.5,29.0],\"type\":\"scatter\",\"xaxis\":\"x4\",\"yaxis\":\"y5\"}],                        {\"template\":{\"data\":{\"barpolar\":[{\"marker\":{\"line\":{\"color\":\"white\",\"width\":0.5},\"pattern\":{\"fillmode\":\"overlay\",\"size\":10,\"solidity\":0.2}},\"type\":\"barpolar\"}],\"bar\":[{\"error_x\":{\"color\":\"rgb(36,36,36)\"},\"error_y\":{\"color\":\"rgb(36,36,36)\"},\"marker\":{\"line\":{\"color\":\"white\",\"width\":0.5},\"pattern\":{\"fillmode\":\"overlay\",\"size\":10,\"solidity\":0.2}},\"type\":\"bar\"}],\"carpet\":[{\"aaxis\":{\"endlinecolor\":\"rgb(36,36,36)\",\"gridcolor\":\"white\",\"linecolor\":\"white\",\"minorgridcolor\":\"white\",\"startlinecolor\":\"rgb(36,36,36)\"},\"baxis\":{\"endlinecolor\":\"rgb(36,36,36)\",\"gridcolor\":\"white\",\"linecolor\":\"white\",\"minorgridcolor\":\"white\",\"startlinecolor\":\"rgb(36,36,36)\"},\"type\":\"carpet\"}],\"choropleth\":[{\"colorbar\":{\"outlinewidth\":1,\"tickcolor\":\"rgb(36,36,36)\",\"ticks\":\"outside\"},\"type\":\"choropleth\"}],\"contourcarpet\":[{\"colorbar\":{\"outlinewidth\":1,\"tickcolor\":\"rgb(36,36,36)\",\"ticks\":\"outside\"},\"type\":\"contourcarpet\"}],\"contour\":[{\"colorbar\":{\"outlinewidth\":1,\"tickcolor\":\"rgb(36,36,36)\",\"ticks\":\"outside\"},\"colorscale\":[[0.0,\"#440154\"],[0.1111111111111111,\"#482878\"],[0.2222222222222222,\"#3e4989\"],[0.3333333333333333,\"#31688e\"],[0.4444444444444444,\"#26828e\"],[0.5555555555555556,\"#1f9e89\"],[0.6666666666666666,\"#35b779\"],[0.7777777777777778,\"#6ece58\"],[0.8888888888888888,\"#b5de2b\"],[1.0,\"#fde725\"]],\"type\":\"contour\"}],\"heatmapgl\":[{\"colorbar\":{\"outlinewidth\":1,\"tickcolor\":\"rgb(36,36,36)\",\"ticks\":\"outside\"},\"colorscale\":[[0.0,\"#440154\"],[0.1111111111111111,\"#482878\"],[0.2222222222222222,\"#3e4989\"],[0.3333333333333333,\"#31688e\"],[0.4444444444444444,\"#26828e\"],[0.5555555555555556,\"#1f9e89\"],[0.6666666666666666,\"#35b779\"],[0.7777777777777778,\"#6ece58\"],[0.8888888888888888,\"#b5de2b\"],[1.0,\"#fde725\"]],\"type\":\"heatmapgl\"}],\"heatmap\":[{\"colorbar\":{\"outlinewidth\":1,\"tickcolor\":\"rgb(36,36,36)\",\"ticks\":\"outside\"},\"colorscale\":[[0.0,\"#440154\"],[0.1111111111111111,\"#482878\"],[0.2222222222222222,\"#3e4989\"],[0.3333333333333333,\"#31688e\"],[0.4444444444444444,\"#26828e\"],[0.5555555555555556,\"#1f9e89\"],[0.6666666666666666,\"#35b779\"],[0.7777777777777778,\"#6ece58\"],[0.8888888888888888,\"#b5de2b\"],[1.0,\"#fde725\"]],\"type\":\"heatmap\"}],\"histogram2dcontour\":[{\"colorbar\":{\"outlinewidth\":1,\"tickcolor\":\"rgb(36,36,36)\",\"ticks\":\"outside\"},\"colorscale\":[[0.0,\"#440154\"],[0.1111111111111111,\"#482878\"],[0.2222222222222222,\"#3e4989\"],[0.3333333333333333,\"#31688e\"],[0.4444444444444444,\"#26828e\"],[0.5555555555555556,\"#1f9e89\"],[0.6666666666666666,\"#35b779\"],[0.7777777777777778,\"#6ece58\"],[0.8888888888888888,\"#b5de2b\"],[1.0,\"#fde725\"]],\"type\":\"histogram2dcontour\"}],\"histogram2d\":[{\"colorbar\":{\"outlinewidth\":1,\"tickcolor\":\"rgb(36,36,36)\",\"ticks\":\"outside\"},\"colorscale\":[[0.0,\"#440154\"],[0.1111111111111111,\"#482878\"],[0.2222222222222222,\"#3e4989\"],[0.3333333333333333,\"#31688e\"],[0.4444444444444444,\"#26828e\"],[0.5555555555555556,\"#1f9e89\"],[0.6666666666666666,\"#35b779\"],[0.7777777777777778,\"#6ece58\"],[0.8888888888888888,\"#b5de2b\"],[1.0,\"#fde725\"]],\"type\":\"histogram2d\"}],\"histogram\":[{\"marker\":{\"line\":{\"color\":\"white\",\"width\":0.6}},\"type\":\"histogram\"}],\"mesh3d\":[{\"colorbar\":{\"outlinewidth\":1,\"tickcolor\":\"rgb(36,36,36)\",\"ticks\":\"outside\"},\"type\":\"mesh3d\"}],\"parcoords\":[{\"line\":{\"colorbar\":{\"outlinewidth\":1,\"tickcolor\":\"rgb(36,36,36)\",\"ticks\":\"outside\"}},\"type\":\"parcoords\"}],\"pie\":[{\"automargin\":true,\"type\":\"pie\"}],\"scatter3d\":[{\"line\":{\"colorbar\":{\"outlinewidth\":1,\"tickcolor\":\"rgb(36,36,36)\",\"ticks\":\"outside\"}},\"marker\":{\"colorbar\":{\"outlinewidth\":1,\"tickcolor\":\"rgb(36,36,36)\",\"ticks\":\"outside\"}},\"type\":\"scatter3d\"}],\"scattercarpet\":[{\"marker\":{\"colorbar\":{\"outlinewidth\":1,\"tickcolor\":\"rgb(36,36,36)\",\"ticks\":\"outside\"}},\"type\":\"scattercarpet\"}],\"scattergeo\":[{\"marker\":{\"colorbar\":{\"outlinewidth\":1,\"tickcolor\":\"rgb(36,36,36)\",\"ticks\":\"outside\"}},\"type\":\"scattergeo\"}],\"scattergl\":[{\"marker\":{\"colorbar\":{\"outlinewidth\":1,\"tickcolor\":\"rgb(36,36,36)\",\"ticks\":\"outside\"}},\"type\":\"scattergl\"}],\"scattermapbox\":[{\"marker\":{\"colorbar\":{\"outlinewidth\":1,\"tickcolor\":\"rgb(36,36,36)\",\"ticks\":\"outside\"}},\"type\":\"scattermapbox\"}],\"scatterpolargl\":[{\"marker\":{\"colorbar\":{\"outlinewidth\":1,\"tickcolor\":\"rgb(36,36,36)\",\"ticks\":\"outside\"}},\"type\":\"scatterpolargl\"}],\"scatterpolar\":[{\"marker\":{\"colorbar\":{\"outlinewidth\":1,\"tickcolor\":\"rgb(36,36,36)\",\"ticks\":\"outside\"}},\"type\":\"scatterpolar\"}],\"scatter\":[{\"fillpattern\":{\"fillmode\":\"overlay\",\"size\":10,\"solidity\":0.2},\"type\":\"scatter\"}],\"scatterternary\":[{\"marker\":{\"colorbar\":{\"outlinewidth\":1,\"tickcolor\":\"rgb(36,36,36)\",\"ticks\":\"outside\"}},\"type\":\"scatterternary\"}],\"surface\":[{\"colorbar\":{\"outlinewidth\":1,\"tickcolor\":\"rgb(36,36,36)\",\"ticks\":\"outside\"},\"colorscale\":[[0.0,\"#440154\"],[0.1111111111111111,\"#482878\"],[0.2222222222222222,\"#3e4989\"],[0.3333333333333333,\"#31688e\"],[0.4444444444444444,\"#26828e\"],[0.5555555555555556,\"#1f9e89\"],[0.6666666666666666,\"#35b779\"],[0.7777777777777778,\"#6ece58\"],[0.8888888888888888,\"#b5de2b\"],[1.0,\"#fde725\"]],\"type\":\"surface\"}],\"table\":[{\"cells\":{\"fill\":{\"color\":\"rgb(237,237,237)\"},\"line\":{\"color\":\"white\"}},\"header\":{\"fill\":{\"color\":\"rgb(217,217,217)\"},\"line\":{\"color\":\"white\"}},\"type\":\"table\"}]},\"layout\":{\"annotationdefaults\":{\"arrowhead\":0,\"arrowwidth\":1},\"autotypenumbers\":\"strict\",\"coloraxis\":{\"colorbar\":{\"outlinewidth\":1,\"tickcolor\":\"rgb(36,36,36)\",\"ticks\":\"outside\"}},\"colorscale\":{\"diverging\":[[0.0,\"rgb(103,0,31)\"],[0.1,\"rgb(178,24,43)\"],[0.2,\"rgb(214,96,77)\"],[0.3,\"rgb(244,165,130)\"],[0.4,\"rgb(253,219,199)\"],[0.5,\"rgb(247,247,247)\"],[0.6,\"rgb(209,229,240)\"],[0.7,\"rgb(146,197,222)\"],[0.8,\"rgb(67,147,195)\"],[0.9,\"rgb(33,102,172)\"],[1.0,\"rgb(5,48,97)\"]],\"sequential\":[[0.0,\"#440154\"],[0.1111111111111111,\"#482878\"],[0.2222222222222222,\"#3e4989\"],[0.3333333333333333,\"#31688e\"],[0.4444444444444444,\"#26828e\"],[0.5555555555555556,\"#1f9e89\"],[0.6666666666666666,\"#35b779\"],[0.7777777777777778,\"#6ece58\"],[0.8888888888888888,\"#b5de2b\"],[1.0,\"#fde725\"]],\"sequentialminus\":[[0.0,\"#440154\"],[0.1111111111111111,\"#482878\"],[0.2222222222222222,\"#3e4989\"],[0.3333333333333333,\"#31688e\"],[0.4444444444444444,\"#26828e\"],[0.5555555555555556,\"#1f9e89\"],[0.6666666666666666,\"#35b779\"],[0.7777777777777778,\"#6ece58\"],[0.8888888888888888,\"#b5de2b\"],[1.0,\"#fde725\"]]},\"colorway\":[\"#1F77B4\",\"#FF7F0E\",\"#2CA02C\",\"#D62728\",\"#9467BD\",\"#8C564B\",\"#E377C2\",\"#7F7F7F\",\"#BCBD22\",\"#17BECF\"],\"font\":{\"color\":\"rgb(36,36,36)\"},\"geo\":{\"bgcolor\":\"white\",\"lakecolor\":\"white\",\"landcolor\":\"white\",\"showlakes\":true,\"showland\":true,\"subunitcolor\":\"white\"},\"hoverlabel\":{\"align\":\"left\"},\"hovermode\":\"closest\",\"mapbox\":{\"style\":\"light\"},\"paper_bgcolor\":\"white\",\"plot_bgcolor\":\"white\",\"polar\":{\"angularaxis\":{\"gridcolor\":\"rgb(232,232,232)\",\"linecolor\":\"rgb(36,36,36)\",\"showgrid\":false,\"showline\":true,\"ticks\":\"outside\"},\"bgcolor\":\"white\",\"radialaxis\":{\"gridcolor\":\"rgb(232,232,232)\",\"linecolor\":\"rgb(36,36,36)\",\"showgrid\":false,\"showline\":true,\"ticks\":\"outside\"}},\"scene\":{\"xaxis\":{\"backgroundcolor\":\"white\",\"gridcolor\":\"rgb(232,232,232)\",\"gridwidth\":2,\"linecolor\":\"rgb(36,36,36)\",\"showbackground\":true,\"showgrid\":false,\"showline\":true,\"ticks\":\"outside\",\"zeroline\":false,\"zerolinecolor\":\"rgb(36,36,36)\"},\"yaxis\":{\"backgroundcolor\":\"white\",\"gridcolor\":\"rgb(232,232,232)\",\"gridwidth\":2,\"linecolor\":\"rgb(36,36,36)\",\"showbackground\":true,\"showgrid\":false,\"showline\":true,\"ticks\":\"outside\",\"zeroline\":false,\"zerolinecolor\":\"rgb(36,36,36)\"},\"zaxis\":{\"backgroundcolor\":\"white\",\"gridcolor\":\"rgb(232,232,232)\",\"gridwidth\":2,\"linecolor\":\"rgb(36,36,36)\",\"showbackground\":true,\"showgrid\":false,\"showline\":true,\"ticks\":\"outside\",\"zeroline\":false,\"zerolinecolor\":\"rgb(36,36,36)\"}},\"shapedefaults\":{\"fillcolor\":\"black\",\"line\":{\"width\":0},\"opacity\":0.3},\"ternary\":{\"aaxis\":{\"gridcolor\":\"rgb(232,232,232)\",\"linecolor\":\"rgb(36,36,36)\",\"showgrid\":false,\"showline\":true,\"ticks\":\"outside\"},\"baxis\":{\"gridcolor\":\"rgb(232,232,232)\",\"linecolor\":\"rgb(36,36,36)\",\"showgrid\":false,\"showline\":true,\"ticks\":\"outside\"},\"bgcolor\":\"white\",\"caxis\":{\"gridcolor\":\"rgb(232,232,232)\",\"linecolor\":\"rgb(36,36,36)\",\"showgrid\":false,\"showline\":true,\"ticks\":\"outside\"}},\"title\":{\"x\":0.05},\"xaxis\":{\"automargin\":true,\"gridcolor\":\"rgb(232,232,232)\",\"linecolor\":\"rgb(36,36,36)\",\"showgrid\":false,\"showline\":true,\"ticks\":\"outside\",\"title\":{\"standoff\":15},\"zeroline\":false,\"zerolinecolor\":\"rgb(36,36,36)\"},\"yaxis\":{\"automargin\":true,\"gridcolor\":\"rgb(232,232,232)\",\"linecolor\":\"rgb(36,36,36)\",\"showgrid\":false,\"showline\":true,\"ticks\":\"outside\",\"title\":{\"standoff\":15},\"zeroline\":false,\"zerolinecolor\":\"rgb(36,36,36)\"}}},\"xaxis\":{\"anchor\":\"y\",\"domain\":[0.0,0.37],\"title\":{\"text\":\"Time\"},\"showgrid\":true,\"gridwidth\":1,\"gridcolor\":\"#E5E5E5\",\"zeroline\":true,\"zerolinewidth\":1,\"zerolinecolor\":\"#808080\"},\"yaxis\":{\"anchor\":\"x\",\"domain\":[0.625,1.0],\"title\":{\"text\":\"Concentration (\\u03bcg\\u002fm\\u00b3)\"},\"showgrid\":true,\"gridwidth\":1,\"gridcolor\":\"#E5E5E5\",\"zeroline\":true,\"zerolinewidth\":1,\"zerolinecolor\":\"#808080\"},\"yaxis2\":{\"anchor\":\"x\",\"overlaying\":\"y\",\"side\":\"right\",\"title\":{\"text\":\"Concentration (\\u03bcg\\u002fm\\u00b3)\"},\"showgrid\":true,\"gridwidth\":1,\"gridcolor\":\"#E5E5E5\",\"zeroline\":true,\"zerolinewidth\":1,\"zerolinecolor\":\"#808080\"},\"xaxis2\":{\"anchor\":\"y3\",\"domain\":[0.5700000000000001,0.9400000000000001],\"showgrid\":true,\"gridwidth\":1,\"gridcolor\":\"#E5E5E5\",\"zeroline\":true,\"zerolinewidth\":1,\"zerolinecolor\":\"#808080\"},\"yaxis3\":{\"anchor\":\"x2\",\"domain\":[0.625,1.0],\"title\":{\"text\":\"Concentration (\\u03bcg\\u002fm\\u00b3)\"},\"showgrid\":true,\"gridwidth\":1,\"gridcolor\":\"#E5E5E5\",\"zeroline\":true,\"zerolinewidth\":1,\"zerolinecolor\":\"#808080\"},\"xaxis3\":{\"anchor\":\"y4\",\"domain\":[0.0,0.37],\"title\":{\"text\":\"Wind Speed (km\\u002fh)\"},\"showgrid\":true,\"gridwidth\":1,\"gridcolor\":\"#E5E5E5\",\"zeroline\":true,\"zerolinewidth\":1,\"zerolinecolor\":\"#808080\"},\"yaxis4\":{\"anchor\":\"x3\",\"domain\":[0.0,0.375],\"title\":{\"text\":\"European AQI\"},\"showgrid\":true,\"gridwidth\":1,\"gridcolor\":\"#E5E5E5\",\"zeroline\":true,\"zerolinewidth\":1,\"zerolinecolor\":\"#808080\"},\"xaxis4\":{\"anchor\":\"y5\",\"domain\":[0.5700000000000001,0.9400000000000001],\"title\":{\"text\":\"Hour of Day\"},\"showgrid\":true,\"gridwidth\":1,\"gridcolor\":\"#E5E5E5\",\"zeroline\":true,\"zerolinewidth\":1,\"zerolinecolor\":\"#808080\"},\"yaxis5\":{\"anchor\":\"x4\",\"domain\":[0.0,0.375],\"title\":{\"text\":\"Average AQI\"},\"showgrid\":true,\"gridwidth\":1,\"gridcolor\":\"#E5E5E5\",\"zeroline\":true,\"zerolinewidth\":1,\"zerolinecolor\":\"#808080\"},\"annotations\":[{\"font\":{\"size\":16},\"showarrow\":false,\"text\":\"PM2.5 Time Series with Confidence Interval\",\"x\":0.185,\"xanchor\":\"center\",\"xref\":\"paper\",\"y\":1.0,\"yanchor\":\"bottom\",\"yref\":\"paper\"},{\"font\":{\"size\":16},\"showarrow\":false,\"text\":\"PM10 vs PM2.5 Distribution\",\"x\":0.7550000000000001,\"xanchor\":\"center\",\"xref\":\"paper\",\"y\":1.0,\"yanchor\":\"bottom\",\"yref\":\"paper\"},{\"font\":{\"size\":16},\"showarrow\":false,\"text\":\"Wind Speed vs Air Quality Index\",\"x\":0.185,\"xanchor\":\"center\",\"xref\":\"paper\",\"y\":0.375,\"yanchor\":\"bottom\",\"yref\":\"paper\"},{\"font\":{\"size\":16},\"showarrow\":false,\"text\":\"Daily AQI Pattern\",\"x\":0.7550000000000001,\"xanchor\":\"center\",\"xref\":\"paper\",\"y\":0.375,\"yanchor\":\"bottom\",\"yref\":\"paper\"}],\"font\":{\"size\":12},\"title\":{\"text\":\"Multi-Parameter Air Quality Analysis Dashboard\",\"font\":{\"size\":16},\"x\":0.5,\"xanchor\":\"center\"},\"height\":800,\"showlegend\":true,\"margin\":{\"l\":50,\"r\":50,\"t\":80,\"b\":50},\"autosize\":true,\"paper_bgcolor\":\"white\",\"plot_bgcolor\":\"white\",\"modebar\":{\"add\":[\"zoom\",\"pan\",\"select\",\"lasso2d\",\"reset\"]},\"hovermode\":\"closest\",\"legend\":{\"yanchor\":\"top\",\"y\":0.99,\"xanchor\":\"left\",\"x\":0.01,\"bgcolor\":\"rgba(255, 255, 255, 0.8)\"}},                        {\"responsive\": true}                    ).then(function(){\n",
       "                            \n",
       "var gd = document.getElementById('eb7d9b02-ddc2-4f2f-af95-8ff8bff386d5');\n",
       "var x = new MutationObserver(function (mutations, observer) {{\n",
       "        var display = window.getComputedStyle(gd).display;\n",
       "        if (!display || display === 'none') {{\n",
       "            console.log([gd, 'removed!']);\n",
       "            Plotly.purge(gd);\n",
       "            observer.disconnect();\n",
       "        }}\n",
       "}});\n",
       "\n",
       "// Listen for the removal of the full notebook cells\n",
       "var notebookContainer = gd.closest('#notebook-container');\n",
       "if (notebookContainer) {{\n",
       "    x.observe(notebookContainer, {childList: true});\n",
       "}}\n",
       "\n",
       "// Listen for the clearing of the current output cell\n",
       "var outputEl = gd.closest('.output');\n",
       "if (outputEl) {{\n",
       "    x.observe(outputEl, {childList: true});\n",
       "}}\n",
       "\n",
       "                        })                };                });            </script>        </div>"
      ]
     },
     "metadata": {},
     "output_type": "display_data"
    },
    {
     "name": "stdout",
     "output_type": "stream",
     "text": [
      "Let me provide a technical analysis of this multi-parameter air quality visualization dashboard that would be relevant for a climate science expert.\n",
      "\n",
      "Title: \"Multi-Parameter Air Quality Analysis Dashboard\"\n",
      "\n",
      "Technical Analysis of Key Components:\n",
      "\n",
      "1. PM2.5 Temporal Analysis (Top Left):\n",
      "- Time series projection extending to January 2025\n",
      "- Implementation of 95% confidence intervals for uncertainty quantification\n",
      "- Notable PM2.5 concentration range: 5.60-14.90 μg/m³ (mean: 9.72 μg/m³)\n",
      "- Linear forecasting model evident in the projection\n",
      "\n",
      "2. PM10 vs PM2.5 Distribution Comparison (Top Right):\n",
      "- Box-and-whisker representation showing full statistical distribution\n",
      "- PM10 exhibits greater variability (range: 7.30-23.10 μg/m³)\n",
      "- PM2.5/PM10 ratio approximately 0.72, indicating significant fine particle fraction\n",
      "- Outlier detection implemented in distribution analysis\n",
      "\n",
      "3. Wind Speed vs AQI Correlation (Bottom Left):\n",
      "- Wind speed range: 2.00-37.40 km/h (mean: 20.39 km/h)\n",
      "- European AQI scale implementation (28.00-36.00 range)\n",
      "- Potential for ventilation coefficient analysis\n",
      "\n",
      "4.\n"
     ]
    }
   ],
   "source": [
    "fig.show()\n",
    "print(description)"
   ]
  },
  {
   "cell_type": "code",
   "execution_count": null,
   "id": "b01963c5-3337-4025-ac7a-2b8d707e5a20",
   "metadata": {},
   "outputs": [],
   "source": []
  }
 ],
 "metadata": {
  "kernelspec": {
   "display_name": "Python 3 (ipykernel)",
   "language": "python",
   "name": "python3"
  },
  "language_info": {
   "codemirror_mode": {
    "name": "ipython",
    "version": 3
   },
   "file_extension": ".py",
   "mimetype": "text/x-python",
   "name": "python",
   "nbconvert_exporter": "python",
   "pygments_lexer": "ipython3",
   "version": "3.10.12"
  }
 },
 "nbformat": 4,
 "nbformat_minor": 5
}
